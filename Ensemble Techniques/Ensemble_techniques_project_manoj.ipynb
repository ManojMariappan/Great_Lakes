{
 "cells": [
  {
   "cell_type": "markdown",
   "metadata": {},
   "source": [
    "# ENSEMBLE TECHNIQUES PROJECT\n",
    "\n",
    "### - Author - Manoj Mariappan "
   ]
  },
  {
   "cell_type": "markdown",
   "metadata": {},
   "source": [
    "## 1. Importing required libraries"
   ]
  },
  {
   "cell_type": "code",
   "execution_count": 1,
   "metadata": {},
   "outputs": [],
   "source": [
    "import matplotlib.pyplot as plt\n",
    "%matplotlib inline\n",
    "import seaborn as sns\n",
    "import pandas as pd\n",
    "import numpy as np\n",
    "from scipy.stats import zscore\n",
    "from sklearn.model_selection import train_test_split\n",
    "from sklearn.tree import DecisionTreeClassifier\n",
    "from sklearn import tree,metrics\n",
    "from sklearn.ensemble import AdaBoostClassifier,GradientBoostingClassifier,BaggingClassifier,RandomForestClassifier\n",
    "from sklearn.metrics import classification_report,roc_auc_score,roc_curve,auc\n",
    "from sklearn.linear_model import LogisticRegression\n",
    "from sklearn.naive_bayes import GaussianNB\n",
    "from sklearn.neighbors import KNeighborsClassifier\n",
    "from sklearn.svm import SVC\n",
    "import warnings\n",
    "warnings.filterwarnings('ignore')"
   ]
  },
  {
   "cell_type": "markdown",
   "metadata": {},
   "source": [
    "## 2. Reading the Data into the Dataframe"
   ]
  },
  {
   "cell_type": "code",
   "execution_count": 2,
   "metadata": {},
   "outputs": [
    {
     "data": {
      "text/html": [
       "<div>\n",
       "<style scoped>\n",
       "    .dataframe tbody tr th:only-of-type {\n",
       "        vertical-align: middle;\n",
       "    }\n",
       "\n",
       "    .dataframe tbody tr th {\n",
       "        vertical-align: top;\n",
       "    }\n",
       "\n",
       "    .dataframe thead th {\n",
       "        text-align: right;\n",
       "    }\n",
       "</style>\n",
       "<table border=\"1\" class=\"dataframe\">\n",
       "  <thead>\n",
       "    <tr style=\"text-align: right;\">\n",
       "      <th></th>\n",
       "      <th>age</th>\n",
       "      <th>job</th>\n",
       "      <th>marital</th>\n",
       "      <th>education</th>\n",
       "      <th>default</th>\n",
       "      <th>balance</th>\n",
       "      <th>housing</th>\n",
       "      <th>loan</th>\n",
       "      <th>contact</th>\n",
       "      <th>day</th>\n",
       "      <th>month</th>\n",
       "      <th>duration</th>\n",
       "      <th>campaign</th>\n",
       "      <th>pdays</th>\n",
       "      <th>previous</th>\n",
       "      <th>poutcome</th>\n",
       "      <th>Target</th>\n",
       "    </tr>\n",
       "  </thead>\n",
       "  <tbody>\n",
       "    <tr>\n",
       "      <td>0</td>\n",
       "      <td>58</td>\n",
       "      <td>management</td>\n",
       "      <td>married</td>\n",
       "      <td>tertiary</td>\n",
       "      <td>no</td>\n",
       "      <td>2143</td>\n",
       "      <td>yes</td>\n",
       "      <td>no</td>\n",
       "      <td>unknown</td>\n",
       "      <td>5</td>\n",
       "      <td>may</td>\n",
       "      <td>261</td>\n",
       "      <td>1</td>\n",
       "      <td>-1</td>\n",
       "      <td>0</td>\n",
       "      <td>unknown</td>\n",
       "      <td>no</td>\n",
       "    </tr>\n",
       "    <tr>\n",
       "      <td>1</td>\n",
       "      <td>44</td>\n",
       "      <td>technician</td>\n",
       "      <td>single</td>\n",
       "      <td>secondary</td>\n",
       "      <td>no</td>\n",
       "      <td>29</td>\n",
       "      <td>yes</td>\n",
       "      <td>no</td>\n",
       "      <td>unknown</td>\n",
       "      <td>5</td>\n",
       "      <td>may</td>\n",
       "      <td>151</td>\n",
       "      <td>1</td>\n",
       "      <td>-1</td>\n",
       "      <td>0</td>\n",
       "      <td>unknown</td>\n",
       "      <td>no</td>\n",
       "    </tr>\n",
       "    <tr>\n",
       "      <td>2</td>\n",
       "      <td>33</td>\n",
       "      <td>entrepreneur</td>\n",
       "      <td>married</td>\n",
       "      <td>secondary</td>\n",
       "      <td>no</td>\n",
       "      <td>2</td>\n",
       "      <td>yes</td>\n",
       "      <td>yes</td>\n",
       "      <td>unknown</td>\n",
       "      <td>5</td>\n",
       "      <td>may</td>\n",
       "      <td>76</td>\n",
       "      <td>1</td>\n",
       "      <td>-1</td>\n",
       "      <td>0</td>\n",
       "      <td>unknown</td>\n",
       "      <td>no</td>\n",
       "    </tr>\n",
       "    <tr>\n",
       "      <td>3</td>\n",
       "      <td>47</td>\n",
       "      <td>blue-collar</td>\n",
       "      <td>married</td>\n",
       "      <td>unknown</td>\n",
       "      <td>no</td>\n",
       "      <td>1506</td>\n",
       "      <td>yes</td>\n",
       "      <td>no</td>\n",
       "      <td>unknown</td>\n",
       "      <td>5</td>\n",
       "      <td>may</td>\n",
       "      <td>92</td>\n",
       "      <td>1</td>\n",
       "      <td>-1</td>\n",
       "      <td>0</td>\n",
       "      <td>unknown</td>\n",
       "      <td>no</td>\n",
       "    </tr>\n",
       "    <tr>\n",
       "      <td>4</td>\n",
       "      <td>33</td>\n",
       "      <td>unknown</td>\n",
       "      <td>single</td>\n",
       "      <td>unknown</td>\n",
       "      <td>no</td>\n",
       "      <td>1</td>\n",
       "      <td>no</td>\n",
       "      <td>no</td>\n",
       "      <td>unknown</td>\n",
       "      <td>5</td>\n",
       "      <td>may</td>\n",
       "      <td>198</td>\n",
       "      <td>1</td>\n",
       "      <td>-1</td>\n",
       "      <td>0</td>\n",
       "      <td>unknown</td>\n",
       "      <td>no</td>\n",
       "    </tr>\n",
       "    <tr>\n",
       "      <td>5</td>\n",
       "      <td>35</td>\n",
       "      <td>management</td>\n",
       "      <td>married</td>\n",
       "      <td>tertiary</td>\n",
       "      <td>no</td>\n",
       "      <td>231</td>\n",
       "      <td>yes</td>\n",
       "      <td>no</td>\n",
       "      <td>unknown</td>\n",
       "      <td>5</td>\n",
       "      <td>may</td>\n",
       "      <td>139</td>\n",
       "      <td>1</td>\n",
       "      <td>-1</td>\n",
       "      <td>0</td>\n",
       "      <td>unknown</td>\n",
       "      <td>no</td>\n",
       "    </tr>\n",
       "    <tr>\n",
       "      <td>6</td>\n",
       "      <td>28</td>\n",
       "      <td>management</td>\n",
       "      <td>single</td>\n",
       "      <td>tertiary</td>\n",
       "      <td>no</td>\n",
       "      <td>447</td>\n",
       "      <td>yes</td>\n",
       "      <td>yes</td>\n",
       "      <td>unknown</td>\n",
       "      <td>5</td>\n",
       "      <td>may</td>\n",
       "      <td>217</td>\n",
       "      <td>1</td>\n",
       "      <td>-1</td>\n",
       "      <td>0</td>\n",
       "      <td>unknown</td>\n",
       "      <td>no</td>\n",
       "    </tr>\n",
       "    <tr>\n",
       "      <td>7</td>\n",
       "      <td>42</td>\n",
       "      <td>entrepreneur</td>\n",
       "      <td>divorced</td>\n",
       "      <td>tertiary</td>\n",
       "      <td>yes</td>\n",
       "      <td>2</td>\n",
       "      <td>yes</td>\n",
       "      <td>no</td>\n",
       "      <td>unknown</td>\n",
       "      <td>5</td>\n",
       "      <td>may</td>\n",
       "      <td>380</td>\n",
       "      <td>1</td>\n",
       "      <td>-1</td>\n",
       "      <td>0</td>\n",
       "      <td>unknown</td>\n",
       "      <td>no</td>\n",
       "    </tr>\n",
       "    <tr>\n",
       "      <td>8</td>\n",
       "      <td>58</td>\n",
       "      <td>retired</td>\n",
       "      <td>married</td>\n",
       "      <td>primary</td>\n",
       "      <td>no</td>\n",
       "      <td>121</td>\n",
       "      <td>yes</td>\n",
       "      <td>no</td>\n",
       "      <td>unknown</td>\n",
       "      <td>5</td>\n",
       "      <td>may</td>\n",
       "      <td>50</td>\n",
       "      <td>1</td>\n",
       "      <td>-1</td>\n",
       "      <td>0</td>\n",
       "      <td>unknown</td>\n",
       "      <td>no</td>\n",
       "    </tr>\n",
       "    <tr>\n",
       "      <td>9</td>\n",
       "      <td>43</td>\n",
       "      <td>technician</td>\n",
       "      <td>single</td>\n",
       "      <td>secondary</td>\n",
       "      <td>no</td>\n",
       "      <td>593</td>\n",
       "      <td>yes</td>\n",
       "      <td>no</td>\n",
       "      <td>unknown</td>\n",
       "      <td>5</td>\n",
       "      <td>may</td>\n",
       "      <td>55</td>\n",
       "      <td>1</td>\n",
       "      <td>-1</td>\n",
       "      <td>0</td>\n",
       "      <td>unknown</td>\n",
       "      <td>no</td>\n",
       "    </tr>\n",
       "  </tbody>\n",
       "</table>\n",
       "</div>"
      ],
      "text/plain": [
       "   age           job   marital  education default  balance housing loan  \\\n",
       "0   58    management   married   tertiary      no     2143     yes   no   \n",
       "1   44    technician    single  secondary      no       29     yes   no   \n",
       "2   33  entrepreneur   married  secondary      no        2     yes  yes   \n",
       "3   47   blue-collar   married    unknown      no     1506     yes   no   \n",
       "4   33       unknown    single    unknown      no        1      no   no   \n",
       "5   35    management   married   tertiary      no      231     yes   no   \n",
       "6   28    management    single   tertiary      no      447     yes  yes   \n",
       "7   42  entrepreneur  divorced   tertiary     yes        2     yes   no   \n",
       "8   58       retired   married    primary      no      121     yes   no   \n",
       "9   43    technician    single  secondary      no      593     yes   no   \n",
       "\n",
       "   contact  day month  duration  campaign  pdays  previous poutcome Target  \n",
       "0  unknown    5   may       261         1     -1         0  unknown     no  \n",
       "1  unknown    5   may       151         1     -1         0  unknown     no  \n",
       "2  unknown    5   may        76         1     -1         0  unknown     no  \n",
       "3  unknown    5   may        92         1     -1         0  unknown     no  \n",
       "4  unknown    5   may       198         1     -1         0  unknown     no  \n",
       "5  unknown    5   may       139         1     -1         0  unknown     no  \n",
       "6  unknown    5   may       217         1     -1         0  unknown     no  \n",
       "7  unknown    5   may       380         1     -1         0  unknown     no  \n",
       "8  unknown    5   may        50         1     -1         0  unknown     no  \n",
       "9  unknown    5   may        55         1     -1         0  unknown     no  "
      ]
     },
     "execution_count": 2,
     "metadata": {},
     "output_type": "execute_result"
    }
   ],
   "source": [
    "BankData = pd.read_csv(\"Data/bank-full.csv\")\n",
    "BankData.head(10)"
   ]
  },
  {
   "cell_type": "markdown",
   "metadata": {},
   "source": [
    "#### - The data as per seen from above it has a few numeric and string data types which in some way can come under categorical values such as education , job, month, housing and so."
   ]
  },
  {
   "cell_type": "markdown",
   "metadata": {},
   "source": [
    "## 3. EDA\n",
    "### 3.a. Shape of the data"
   ]
  },
  {
   "cell_type": "code",
   "execution_count": 3,
   "metadata": {},
   "outputs": [
    {
     "name": "stdout",
     "output_type": "stream",
     "text": [
      "Number of records and features in the Data (45211, 17)\n",
      "<==========================================================>\n"
     ]
    }
   ],
   "source": [
    "print(\"Number of records and features in the Data\",BankData.shape)\n",
    "print(\"<==========================================================>\")"
   ]
  },
  {
   "cell_type": "markdown",
   "metadata": {},
   "source": [
    "- The data has 45211 Records with 17 attributes. "
   ]
  },
  {
   "cell_type": "markdown",
   "metadata": {},
   "source": [
    "### 3.b. Data Type of each Attribute"
   ]
  },
  {
   "cell_type": "code",
   "execution_count": 4,
   "metadata": {
    "scrolled": false
   },
   "outputs": [
    {
     "name": "stdout",
     "output_type": "stream",
     "text": [
      "Datatypes of the DataFrame\n",
      "age           int64\n",
      "job          object\n",
      "marital      object\n",
      "education    object\n",
      "default      object\n",
      "balance       int64\n",
      "housing      object\n",
      "loan         object\n",
      "contact      object\n",
      "day           int64\n",
      "month        object\n",
      "duration      int64\n",
      "campaign      int64\n",
      "pdays         int64\n",
      "previous      int64\n",
      "poutcome     object\n",
      "Target       object\n",
      "dtype: object\n"
     ]
    }
   ],
   "source": [
    "print(\"Datatypes of the DataFrame\")\n",
    "print(BankData.dtypes)"
   ]
  },
  {
   "cell_type": "markdown",
   "metadata": {},
   "source": [
    "#### -7 integer type and 10 object type(Strings in the column)\n",
    "1.  Age is the age of the person it is of integer type\n",
    "2.  job is the type of job the person is in and it comes under categorical type of data\n",
    "3.  marital is the marital status of the person and it comes under categorical type\n",
    "4.  education is the education qualification of the person and this comes under categorical value.\n",
    "5.  default is if the person has credit or not and comes under categorucal type\n",
    "6.  balance is the average yearly balance in the account of the person and its of numerical type\n",
    "7.  housing is if the person has housing loan or not and it comes under categorical type\n",
    "8.  Loan is if the person has personal loan or not and it too comes under categorical type\n",
    "9.  contact is what contact type the person has it comes under categorical type too\n",
    "10. day is the last day of contact of the person from the bank it comes under numerical type\n",
    "11. month is the last contact month in the year it is a categorical type\n",
    "12. duration is the duration of the last contact its of numerical type\n",
    "13. campaign is a numeric type defines how many times the person is contacted\n",
    "14. pdays is how many days has crossed since the contact from the previous campaign and its numeric type\n",
    "15. previous is how many times the person is contacted before and its numeric type\n",
    "16. poutcome is the outcome of the previous campaign and its a categorical type\n",
    "17. is the target of the record if he subscribed or not this is also a categorical type"
   ]
  },
  {
   "cell_type": "markdown",
   "metadata": {},
   "source": [
    "### 3.c. Finding Missing Values"
   ]
  },
  {
   "cell_type": "markdown",
   "metadata": {},
   "source": [
    "Lets check for the missing Values in the Data"
   ]
  },
  {
   "cell_type": "code",
   "execution_count": 5,
   "metadata": {},
   "outputs": [
    {
     "data": {
      "text/html": [
       "<div>\n",
       "<style scoped>\n",
       "    .dataframe tbody tr th:only-of-type {\n",
       "        vertical-align: middle;\n",
       "    }\n",
       "\n",
       "    .dataframe tbody tr th {\n",
       "        vertical-align: top;\n",
       "    }\n",
       "\n",
       "    .dataframe thead th {\n",
       "        text-align: right;\n",
       "    }\n",
       "</style>\n",
       "<table border=\"1\" class=\"dataframe\">\n",
       "  <thead>\n",
       "    <tr style=\"text-align: right;\">\n",
       "      <th></th>\n",
       "      <th>age</th>\n",
       "      <th>job</th>\n",
       "      <th>marital</th>\n",
       "      <th>education</th>\n",
       "      <th>default</th>\n",
       "      <th>balance</th>\n",
       "      <th>housing</th>\n",
       "      <th>loan</th>\n",
       "      <th>contact</th>\n",
       "      <th>day</th>\n",
       "      <th>month</th>\n",
       "      <th>duration</th>\n",
       "      <th>campaign</th>\n",
       "      <th>pdays</th>\n",
       "      <th>previous</th>\n",
       "      <th>poutcome</th>\n",
       "      <th>Target</th>\n",
       "    </tr>\n",
       "  </thead>\n",
       "  <tbody>\n",
       "    <tr>\n",
       "      <td>False</td>\n",
       "      <td>45211</td>\n",
       "      <td>45211</td>\n",
       "      <td>45211</td>\n",
       "      <td>45211</td>\n",
       "      <td>45211</td>\n",
       "      <td>45211</td>\n",
       "      <td>45211</td>\n",
       "      <td>45211</td>\n",
       "      <td>45211</td>\n",
       "      <td>45211</td>\n",
       "      <td>45211</td>\n",
       "      <td>45211</td>\n",
       "      <td>45211</td>\n",
       "      <td>45211</td>\n",
       "      <td>45211</td>\n",
       "      <td>45211</td>\n",
       "      <td>45211</td>\n",
       "    </tr>\n",
       "  </tbody>\n",
       "</table>\n",
       "</div>"
      ],
      "text/plain": [
       "         age    job  marital  education  default  balance  housing   loan  \\\n",
       "False  45211  45211    45211      45211    45211    45211    45211  45211   \n",
       "\n",
       "       contact    day  month  duration  campaign  pdays  previous  poutcome  \\\n",
       "False    45211  45211  45211     45211     45211  45211     45211     45211   \n",
       "\n",
       "       Target  \n",
       "False   45211  "
      ]
     },
     "execution_count": 5,
     "metadata": {},
     "output_type": "execute_result"
    }
   ],
   "source": [
    "BankData.isna().apply(pd.value_counts)"
   ]
  },
  {
   "cell_type": "markdown",
   "metadata": {},
   "source": [
    "##### -There are no null or missing values in any of the columns\n",
    "There are 45211 total number of records. All the attributed of the datas are shown above and they have no null values"
   ]
  },
  {
   "cell_type": "markdown",
   "metadata": {},
   "source": [
    "### 3.d. 5 point summary of the Data"
   ]
  },
  {
   "cell_type": "code",
   "execution_count": 6,
   "metadata": {},
   "outputs": [
    {
     "data": {
      "text/html": [
       "<div>\n",
       "<style scoped>\n",
       "    .dataframe tbody tr th:only-of-type {\n",
       "        vertical-align: middle;\n",
       "    }\n",
       "\n",
       "    .dataframe tbody tr th {\n",
       "        vertical-align: top;\n",
       "    }\n",
       "\n",
       "    .dataframe thead th {\n",
       "        text-align: right;\n",
       "    }\n",
       "</style>\n",
       "<table border=\"1\" class=\"dataframe\">\n",
       "  <thead>\n",
       "    <tr style=\"text-align: right;\">\n",
       "      <th></th>\n",
       "      <th>age</th>\n",
       "      <th>balance</th>\n",
       "      <th>day</th>\n",
       "      <th>duration</th>\n",
       "      <th>campaign</th>\n",
       "      <th>pdays</th>\n",
       "      <th>previous</th>\n",
       "    </tr>\n",
       "  </thead>\n",
       "  <tbody>\n",
       "    <tr>\n",
       "      <td>count</td>\n",
       "      <td>45211.000000</td>\n",
       "      <td>45211.000000</td>\n",
       "      <td>45211.000000</td>\n",
       "      <td>45211.000000</td>\n",
       "      <td>45211.000000</td>\n",
       "      <td>45211.000000</td>\n",
       "      <td>45211.000000</td>\n",
       "    </tr>\n",
       "    <tr>\n",
       "      <td>mean</td>\n",
       "      <td>40.936210</td>\n",
       "      <td>1362.272058</td>\n",
       "      <td>15.806419</td>\n",
       "      <td>258.163080</td>\n",
       "      <td>2.763841</td>\n",
       "      <td>40.197828</td>\n",
       "      <td>0.580323</td>\n",
       "    </tr>\n",
       "    <tr>\n",
       "      <td>std</td>\n",
       "      <td>10.618762</td>\n",
       "      <td>3044.765829</td>\n",
       "      <td>8.322476</td>\n",
       "      <td>257.527812</td>\n",
       "      <td>3.098021</td>\n",
       "      <td>100.128746</td>\n",
       "      <td>2.303441</td>\n",
       "    </tr>\n",
       "    <tr>\n",
       "      <td>min</td>\n",
       "      <td>18.000000</td>\n",
       "      <td>-8019.000000</td>\n",
       "      <td>1.000000</td>\n",
       "      <td>0.000000</td>\n",
       "      <td>1.000000</td>\n",
       "      <td>-1.000000</td>\n",
       "      <td>0.000000</td>\n",
       "    </tr>\n",
       "    <tr>\n",
       "      <td>25%</td>\n",
       "      <td>33.000000</td>\n",
       "      <td>72.000000</td>\n",
       "      <td>8.000000</td>\n",
       "      <td>103.000000</td>\n",
       "      <td>1.000000</td>\n",
       "      <td>-1.000000</td>\n",
       "      <td>0.000000</td>\n",
       "    </tr>\n",
       "    <tr>\n",
       "      <td>50%</td>\n",
       "      <td>39.000000</td>\n",
       "      <td>448.000000</td>\n",
       "      <td>16.000000</td>\n",
       "      <td>180.000000</td>\n",
       "      <td>2.000000</td>\n",
       "      <td>-1.000000</td>\n",
       "      <td>0.000000</td>\n",
       "    </tr>\n",
       "    <tr>\n",
       "      <td>75%</td>\n",
       "      <td>48.000000</td>\n",
       "      <td>1428.000000</td>\n",
       "      <td>21.000000</td>\n",
       "      <td>319.000000</td>\n",
       "      <td>3.000000</td>\n",
       "      <td>-1.000000</td>\n",
       "      <td>0.000000</td>\n",
       "    </tr>\n",
       "    <tr>\n",
       "      <td>max</td>\n",
       "      <td>95.000000</td>\n",
       "      <td>102127.000000</td>\n",
       "      <td>31.000000</td>\n",
       "      <td>4918.000000</td>\n",
       "      <td>63.000000</td>\n",
       "      <td>871.000000</td>\n",
       "      <td>275.000000</td>\n",
       "    </tr>\n",
       "  </tbody>\n",
       "</table>\n",
       "</div>"
      ],
      "text/plain": [
       "                age        balance           day      duration      campaign  \\\n",
       "count  45211.000000   45211.000000  45211.000000  45211.000000  45211.000000   \n",
       "mean      40.936210    1362.272058     15.806419    258.163080      2.763841   \n",
       "std       10.618762    3044.765829      8.322476    257.527812      3.098021   \n",
       "min       18.000000   -8019.000000      1.000000      0.000000      1.000000   \n",
       "25%       33.000000      72.000000      8.000000    103.000000      1.000000   \n",
       "50%       39.000000     448.000000     16.000000    180.000000      2.000000   \n",
       "75%       48.000000    1428.000000     21.000000    319.000000      3.000000   \n",
       "max       95.000000  102127.000000     31.000000   4918.000000     63.000000   \n",
       "\n",
       "              pdays      previous  \n",
       "count  45211.000000  45211.000000  \n",
       "mean      40.197828      0.580323  \n",
       "std      100.128746      2.303441  \n",
       "min       -1.000000      0.000000  \n",
       "25%       -1.000000      0.000000  \n",
       "50%       -1.000000      0.000000  \n",
       "75%       -1.000000      0.000000  \n",
       "max      871.000000    275.000000  "
      ]
     },
     "execution_count": 6,
     "metadata": {},
     "output_type": "execute_result"
    }
   ],
   "source": [
    "BankData.describe()"
   ]
  },
  {
   "cell_type": "markdown",
   "metadata": {},
   "source": [
    "- Age has mean and 50% very close, so this seems to be a normally distributed data.\n",
    "- Balance seems to be on the negative end too. since it goes beyond the average negative value. The mean and 50% is different so this feature is skewed.\n",
    "- day looks like normally distributed\n",
    "- pdays has -1 from min to 75% and since it denotes people who were not concated on the previous campaign.\n",
    "- previous 0 seems to be filled mostly in the feature since min to 75% has 0 this denotes the person has not been contacted yet before this campaign."
   ]
  },
  {
   "cell_type": "code",
   "execution_count": 7,
   "metadata": {},
   "outputs": [
    {
     "name": "stdout",
     "output_type": "stream",
     "text": [
      "Now let us see the information on each categorical variable how many types of category they have and how many values each type has\n",
      "<=========================================================================>\n",
      "The Distribution of job\n",
      "blue-collar      9732\n",
      "management       9458\n",
      "technician       7597\n",
      "admin.           5171\n",
      "services         4154\n",
      "retired          2264\n",
      "self-employed    1579\n",
      "entrepreneur     1487\n",
      "unemployed       1303\n",
      "housemaid        1240\n",
      "student           938\n",
      "unknown           288\n",
      "Name: job, dtype: int64\n",
      "<===============================>\n",
      "The Distribution of marital\n",
      "married     27214\n",
      "single      12790\n",
      "divorced     5207\n",
      "Name: marital, dtype: int64\n",
      "AxesSubplot(0.125,0.125;0.352273x0.755)\n",
      "AxesSubplot(0.547727,0.125;0.352273x0.755)\n"
     ]
    },
    {
     "data": {
      "image/png": "[encoded data removed]",
      "text/plain": [
       "<Figure size 1440x288 with 2 Axes>"
      ]
     },
     "metadata": {
      "needs_background": "light"
     },
     "output_type": "display_data"
    }
   ],
   "source": [
    "job = BankData[\"job\"].value_counts()\n",
    "marital = BankData[\"marital\"].value_counts()\n",
    "education = BankData[\"education\"].value_counts()\n",
    "default = BankData[\"default\"].value_counts()\n",
    "housing = BankData[\"housing\"].value_counts()\n",
    "loan = BankData[\"loan\"].value_counts()\n",
    "contact = BankData[\"contact\"].value_counts()\n",
    "month = BankData[\"month\"].value_counts()\n",
    "poutcome = BankData[\"poutcome\"].value_counts()\n",
    "Target = BankData[\"Target\"].value_counts()\n",
    "\n",
    "print(\"Now let us see the information on each categorical variable how many types of category they have and how many values each type has\")\n",
    "print(\"<=========================================================================>\")\n",
    "print(\"The Distribution of job\")\n",
    "print(job)\n",
    "print(\"<===============================>\")\n",
    "print(\"The Distribution of marital\")\n",
    "print(marital)\n",
    "\n",
    "fig,(ax1,ax2) = plt.subplots(nrows=1,ncols=2)\n",
    "fig.set_size_inches(20,4)\n",
    "print(sns.countplot(y='job',data=BankData,ax = ax1))\n",
    "print(sns.countplot(x='marital',data=BankData,ax = ax2))"
   ]
  },
  {
   "cell_type": "markdown",
   "metadata": {},
   "source": [
    "- the feature job shows that the highest count is from management and bluecollar while the lowest fall under unknown category. The category unknown will not be replaced since it will be hard to categorise and it can be left out as a seperate attribute to the feature\n",
    "- The marital feature shows married men to be the highest on the data while divorced is the lowest of the three categories"
   ]
  },
  {
   "cell_type": "code",
   "execution_count": 8,
   "metadata": {},
   "outputs": [
    {
     "name": "stdout",
     "output_type": "stream",
     "text": [
      "<===============================>\n",
      "The Distribution of education\n",
      "secondary    23202\n",
      "tertiary     13301\n",
      "primary       6851\n",
      "unknown       1857\n",
      "Name: education, dtype: int64\n",
      "<===============================>\n",
      "The Distribution of default\n",
      "no     44396\n",
      "yes      815\n",
      "Name: default, dtype: int64\n",
      "AxesSubplot(0.125,0.125;0.352273x0.755)\n",
      "AxesSubplot(0.547727,0.125;0.352273x0.755)\n"
     ]
    },
    {
     "data": {
      "image/png": "[encoded data removed]",
      "text/plain": [
       "<Figure size 1440x288 with 2 Axes>"
      ]
     },
     "metadata": {
      "needs_background": "light"
     },
     "output_type": "display_data"
    }
   ],
   "source": [
    "print(\"<===============================>\")\n",
    "print(\"The Distribution of education\")\n",
    "print(education)\n",
    "print(\"<===============================>\")\n",
    "print(\"The Distribution of default\")\n",
    "print(default)\n",
    "\n",
    "fig,(ax1,ax2) = plt.subplots(nrows=1,ncols=2)\n",
    "fig.set_size_inches(20,4)\n",
    "print(sns.countplot(x='education',data=BankData,ax = ax1))\n",
    "print(sns.countplot(x='default',data=BankData,ax = ax2))"
   ]
  },
  {
   "cell_type": "markdown",
   "metadata": {},
   "source": [
    "- people with the secondary education seems to fill the most while unknown is to be the least.\n",
    "- the people who dosent have credit in default is the most on the data"
   ]
  },
  {
   "cell_type": "code",
   "execution_count": 9,
   "metadata": {},
   "outputs": [
    {
     "name": "stdout",
     "output_type": "stream",
     "text": [
      "<===============================>\n",
      "The Distribution of housing\n",
      "yes    25130\n",
      "no     20081\n",
      "Name: housing, dtype: int64\n",
      "<===============================>\n",
      "The Distribution of loan\n",
      "no     37967\n",
      "yes     7244\n",
      "Name: loan, dtype: int64\n",
      "AxesSubplot(0.125,0.125;0.352273x0.755)\n",
      "AxesSubplot(0.547727,0.125;0.352273x0.755)\n"
     ]
    },
    {
     "data": {
      "image/png": "[encoded data removed]",
      "text/plain": [
       "<Figure size 1440x288 with 2 Axes>"
      ]
     },
     "metadata": {
      "needs_background": "light"
     },
     "output_type": "display_data"
    }
   ],
   "source": [
    "print(\"<===============================>\")\n",
    "print(\"The Distribution of housing\")\n",
    "print(housing)\n",
    "print(\"<===============================>\")\n",
    "print(\"The Distribution of loan\")\n",
    "print(loan)\n",
    "fig,(ax1,ax2) = plt.subplots(nrows=1,ncols=2)\n",
    "fig.set_size_inches(20,4)\n",
    "print(sns.countplot(x='housing',data=BankData,ax = ax1))\n",
    "print(sns.countplot(x='loan',data=BankData,ax = ax2))"
   ]
  },
  {
   "cell_type": "markdown",
   "metadata": {},
   "source": [
    "- people who have housing loand seems to be very closely matched to the ones who dosent have housing loans.\n",
    "- people who dosent have personal loan seems to be highest covered in the data"
   ]
  },
  {
   "cell_type": "code",
   "execution_count": 10,
   "metadata": {},
   "outputs": [
    {
     "name": "stdout",
     "output_type": "stream",
     "text": [
      "<===============================>\n",
      "The Distribution of contact\n",
      "cellular     29285\n",
      "unknown      13020\n",
      "telephone     2906\n",
      "Name: contact, dtype: int64\n",
      "<===============================>\n",
      "The Distribution of month\n",
      "may    13766\n",
      "jul     6895\n",
      "aug     6247\n",
      "jun     5341\n",
      "nov     3970\n",
      "apr     2932\n",
      "feb     2649\n",
      "jan     1403\n",
      "oct      738\n",
      "sep      579\n",
      "mar      477\n",
      "dec      214\n",
      "Name: month, dtype: int64\n",
      "AxesSubplot(0.125,0.125;0.352273x0.755)\n",
      "AxesSubplot(0.547727,0.125;0.352273x0.755)\n"
     ]
    },
    {
     "data": {
      "image/png": "[encoded data removed]",
      "text/plain": [
       "<Figure size 1440x288 with 2 Axes>"
      ]
     },
     "metadata": {
      "needs_background": "light"
     },
     "output_type": "display_data"
    }
   ],
   "source": [
    "print(\"<===============================>\")\n",
    "print(\"The Distribution of contact\")\n",
    "print(contact)\n",
    "print(\"<===============================>\")\n",
    "print(\"The Distribution of month\")\n",
    "print(month)\n",
    "fig,(ax1,ax2) = plt.subplots(nrows=1,ncols=2)\n",
    "fig.set_size_inches(20,4)\n",
    "print(sns.countplot(x='contact',data=BankData,ax = ax1))\n",
    "print(sns.countplot(x='month',data=BankData,ax = ax2))"
   ]
  },
  {
   "cell_type": "markdown",
   "metadata": {},
   "source": [
    "- people who were has the contact type cellular is the highest.\n",
    "- while the data seems to have the been contacted mostly during the month of may"
   ]
  },
  {
   "cell_type": "code",
   "execution_count": 11,
   "metadata": {},
   "outputs": [
    {
     "name": "stdout",
     "output_type": "stream",
     "text": [
      "<===============================>\n",
      "The Distribution of poutcome\n",
      "unknown    36959\n",
      "failure     4901\n",
      "other       1840\n",
      "success     1511\n",
      "Name: poutcome, dtype: int64\n",
      "<===============================>\n",
      "The Distribution of Target\n",
      "no     39922\n",
      "yes     5289\n",
      "Name: Target, dtype: int64\n",
      "AxesSubplot(0.125,0.125;0.352273x0.755)\n",
      "AxesSubplot(0.547727,0.125;0.352273x0.755)\n"
     ]
    },
    {
     "data": {
      "image/png": "[encoded data removed]",
      "text/plain": [
       "<Figure size 1440x288 with 2 Axes>"
      ]
     },
     "metadata": {
      "needs_background": "light"
     },
     "output_type": "display_data"
    }
   ],
   "source": [
    "print(\"<===============================>\")\n",
    "print(\"The Distribution of poutcome\")\n",
    "print(poutcome)\n",
    "print(\"<===============================>\")\n",
    "print(\"The Distribution of Target\")\n",
    "print(Target)\n",
    "\n",
    "fig,(ax1,ax2) = plt.subplots(nrows=1,ncols=2)\n",
    "fig.set_size_inches(20,4)\n",
    "print(sns.countplot(x='poutcome',data=BankData,ax = ax1))\n",
    "print(sns.countplot(x='Target',data=BankData,ax = ax2))"
   ]
  },
  {
   "cell_type": "markdown",
   "metadata": {},
   "source": [
    "- outcome is unknown for most of the data from the previous campaign\n",
    "- The Target variable seems to be distributed for no and yes seems to be covering less samples. so there may arise a problem with accuracy on the Target value yes while modeling"
   ]
  },
  {
   "cell_type": "markdown",
   "metadata": {},
   "source": [
    "#### Feature   ========================    Number of Categories\n",
    "1. job ================================= 12\n",
    "2. marital ============================== 3\n",
    "3. education ============================ 4\n",
    "4. default ============================== 2\n",
    "5. housing ============================= 2\n",
    "6. loan ================================ 2\n",
    "7. contact ============================== 3\n",
    "8. month ============================== 12\n",
    "9. poutcome ============================ 4\n",
    "10. Target =============================== 2"
   ]
  },
  {
   "cell_type": "markdown",
   "metadata": {},
   "source": [
    "### 3.e. Checking for presence of outliers\n",
    "\n",
    "Each numerical feature will be checked for the presence of ourliers with the visualization(boxplot and distplot) and calcualting the outliers with upper limit and lower limit using the IQR"
   ]
  },
  {
   "cell_type": "code",
   "execution_count": 12,
   "metadata": {},
   "outputs": [
    {
     "name": "stdout",
     "output_type": "stream",
     "text": [
      "upper limit :  70.5\n",
      "Total number of outliers present in the feature age is 487\n"
     ]
    },
    {
     "data": {
      "image/png": "[encoded data removed]",
      "text/plain": [
       "<Figure size 1440x288 with 2 Axes>"
      ]
     },
     "metadata": {
      "needs_background": "light"
     },
     "output_type": "display_data"
    }
   ],
   "source": [
    "fig,(ax1,ax2) = plt.subplots(nrows=1,ncols=2)\n",
    "fig.set_size_inches(20,4)\n",
    "sns.distplot(BankData['age'],ax=ax1)\n",
    "ax1.set_title(\"Distribution Plot\")\n",
    "sns.boxplot(BankData['age'],ax=ax2)\n",
    "ax2.set_title(\"Box Plot\")\n",
    "\n",
    "Q1 = np.percentile(a = BankData['age'], q = 25)\n",
    "Q3 = np.percentile(a = BankData['age'], q = 75)\n",
    "IQR = Q3 - Q1\n",
    "ul = Q3 + (1.5 * IQR)\n",
    "ll = Q1 - (1.5 * IQR)\n",
    "total = len(BankData[(BankData['age']>ul) | (BankData['age'] < ll) ])\n",
    "print(\"upper limit : \", ul)\n",
    "print(\"Total number of outliers present in the feature age is \" + str(total))"
   ]
  },
  {
   "cell_type": "code",
   "execution_count": 13,
   "metadata": {},
   "outputs": [
    {
     "name": "stdout",
     "output_type": "stream",
     "text": [
      "Lower limit :  -1962.0\n",
      "upper limit :  3462.0\n",
      "Total number of outliers present in the feature balance is 4729\n"
     ]
    },
    {
     "data": {
      "image/png": "[encoded data removed]",
      "text/plain": [
       "<Figure size 1440x288 with 2 Axes>"
      ]
     },
     "metadata": {
      "needs_background": "light"
     },
     "output_type": "display_data"
    }
   ],
   "source": [
    "fig,(ax1,ax2) = plt.subplots(nrows=1,ncols=2)\n",
    "fig.set_size_inches(20,4)\n",
    "sns.distplot(BankData['balance'],ax=ax1)\n",
    "ax1.set_title(\"Distribution Plot\")\n",
    "sns.boxplot(BankData['balance'],ax=ax2)\n",
    "ax2.set_title(\"Box Plot\")\n",
    "\n",
    "Q1 = np.percentile(a = BankData['balance'], q = 25)\n",
    "Q3 = np.percentile(a = BankData['balance'], q = 75)\n",
    "IQR = Q3 - Q1\n",
    "ul = Q3 + (1.5 * IQR)\n",
    "ll = Q1 - (1.5 * IQR)\n",
    "total = len(BankData[(BankData['balance']>ul) | (BankData['balance'] < ll) ])\n",
    "print(\"Lower limit : \",ll)\n",
    "print(\"upper limit : \",ul)\n",
    "print(\"Total number of outliers present in the feature balance is \" + str(total))"
   ]
  },
  {
   "cell_type": "code",
   "execution_count": 14,
   "metadata": {},
   "outputs": [
    {
     "name": "stdout",
     "output_type": "stream",
     "text": [
      "Total number of outliers present in the feature day is 0\n"
     ]
    },
    {
     "data": {
      "image/png": "[encoded data removed]",
      "text/plain": [
       "<Figure size 1440x288 with 2 Axes>"
      ]
     },
     "metadata": {
      "needs_background": "light"
     },
     "output_type": "display_data"
    }
   ],
   "source": [
    "fig,(ax1,ax2) = plt.subplots(nrows=1,ncols=2)\n",
    "fig.set_size_inches(20,4)\n",
    "sns.distplot(BankData['day'],ax=ax1)\n",
    "ax1.set_title(\"Distribution Plot\")\n",
    "sns.boxplot(BankData['day'],ax=ax2)\n",
    "ax2.set_title(\"Box Plot\")\n",
    "\n",
    "Q1 = np.percentile(a = BankData['day'], q = 25)\n",
    "Q3 = np.percentile(a = BankData['day'], q = 75)\n",
    "IQR = Q3 - Q1\n",
    "ul = Q3 + (1.5 * IQR)\n",
    "ll = Q1 - (1.5 * IQR)\n",
    "total = len(BankData[(BankData['day']>ul) | (BankData['day'] < ll) ])\n",
    "\n",
    "print(\"Total number of outliers present in the feature day is \" + str(total))"
   ]
  },
  {
   "cell_type": "code",
   "execution_count": 15,
   "metadata": {},
   "outputs": [
    {
     "name": "stdout",
     "output_type": "stream",
     "text": [
      "Lower limit :  -2.0\n",
      "Upper limit :  6.0\n",
      "Total number of outliers present in the feature campaign is 3064\n"
     ]
    },
    {
     "data": {
      "image/png": "[encoded data removed]",
      "text/plain": [
       "<Figure size 1440x288 with 2 Axes>"
      ]
     },
     "metadata": {
      "needs_background": "light"
     },
     "output_type": "display_data"
    }
   ],
   "source": [
    "fig,(ax1,ax2) = plt.subplots(nrows=1,ncols=2)\n",
    "fig.set_size_inches(20,4)\n",
    "sns.distplot(BankData['campaign'],ax=ax1)\n",
    "ax1.set_title(\"Distribution Plot\")\n",
    "sns.boxplot(BankData['campaign'],ax=ax2)\n",
    "ax2.set_title(\"Box Plot\")\n",
    "\n",
    "Q1 = np.percentile(a = BankData['campaign'], q = 25)\n",
    "Q3 = np.percentile(a = BankData['campaign'], q = 75)\n",
    "IQR = Q3 - Q1\n",
    "ul = Q3 + (1.5 * IQR)\n",
    "ll = Q1 - (1.5 * IQR)\n",
    "total = len(BankData[(BankData['campaign']>ul) | (BankData['campaign'] < ll) ])\n",
    "print(\"Lower limit : \", ll)\n",
    "print(\"Upper limit : \",ul)\n",
    "print(\"Total number of outliers present in the feature campaign is \" + str(total))"
   ]
  },
  {
   "cell_type": "code",
   "execution_count": 16,
   "metadata": {},
   "outputs": [
    {
     "name": "stdout",
     "output_type": "stream",
     "text": [
      "upper limit :  -1.0\n",
      "lower limit :  -1.0\n",
      "Total number of outliers present in the feature pdays is 8257\n"
     ]
    },
    {
     "data": {
      "image/png": "[encoded data removed]",
      "text/plain": [
       "<Figure size 1440x288 with 2 Axes>"
      ]
     },
     "metadata": {
      "needs_background": "light"
     },
     "output_type": "display_data"
    }
   ],
   "source": [
    "fig,(ax1,ax2) = plt.subplots(nrows=1,ncols=2)\n",
    "fig.set_size_inches(20,4)\n",
    "sns.distplot(BankData['pdays'],ax=ax1)\n",
    "ax1.set_title(\"Distribution Plot\")\n",
    "sns.boxplot(BankData['pdays'],ax=ax2)\n",
    "ax2.set_title(\"Box Plot\")\n",
    "\n",
    "Q1 = np.percentile(a = BankData['pdays'], q = 25)\n",
    "Q3 = np.percentile(a = BankData['pdays'], q = 75)\n",
    "IQR = Q3 - Q1\n",
    "ul = Q3 + (1.5 * IQR)\n",
    "ll = Q1 - (1.5 * IQR)\n",
    "total = len(BankData[(BankData['pdays']>ul) | (BankData['pdays'] < ll) ])\n",
    "print(\"upper limit : \", ul)\n",
    "print(\"lower limit : \", ll)\n",
    "print(\"Total number of outliers present in the feature pdays is \" + str(total))"
   ]
  },
  {
   "cell_type": "code",
   "execution_count": 17,
   "metadata": {},
   "outputs": [
    {
     "name": "stdout",
     "output_type": "stream",
     "text": [
      "Total number of outliers present in the feature previous is 8257\n"
     ]
    },
    {
     "data": {
      "image/png": "[encoded data removed]",
      "text/plain": [
       "<Figure size 1440x288 with 2 Axes>"
      ]
     },
     "metadata": {
      "needs_background": "light"
     },
     "output_type": "display_data"
    }
   ],
   "source": [
    "fig,(ax1,ax2) = plt.subplots(nrows=1,ncols=2)\n",
    "fig.set_size_inches(20,4)\n",
    "sns.distplot(BankData['previous'],ax=ax1)\n",
    "ax1.set_title(\"Distribution Plot\")\n",
    "sns.boxplot(BankData['previous'],ax=ax2)\n",
    "ax2.set_title(\"Box Plot\")\n",
    "\n",
    "Q1 = np.percentile(a = BankData['previous'], q = 25)\n",
    "Q3 = np.percentile(a = BankData['previous'], q = 75)\n",
    "IQR = Q3 - Q1\n",
    "ul = Q3 + (1.5 * IQR)\n",
    "ll = Q1 - (1.5 * IQR)\n",
    "total = len(BankData[(BankData['previous']>ul) | (BankData['previous'] < ll) ])\n",
    "\n",
    "print(\"Total number of outliers present in the feature previous is \" + str(total))"
   ]
  },
  {
   "cell_type": "markdown",
   "metadata": {},
   "source": [
    "- The feature \"age\" has the upper limit around 70.5. So the upper limit in the data will be changed to 71 and all the values above 71 will be replaced with 71.\n",
    "- The feature \"balance\" has the lower limit of -1962 and the upper limit of 3462. For this feature the lower limit will be replaced with -2000 as the lowest limit and all the values below -2000 will be replaced with -2000. For the upper limit outlier capping will be used.\n",
    "- The feature \"day\" dosent have any outliers.\n",
    "- The feature \"campaign\" has the lower limit -2 but minimum value in the dataset is 1 which doesnt need any replacement. The upper limit will be replaced based on outlier capping.\n",
    "- \"previous\" and \"pdays\" have the highest number of outliers and that is almost 20% of the actual data. simply removing the outliers will lead us to loss of data. These two features have equal number of outliers. For these 2 features "
   ]
  },
  {
   "cell_type": "markdown",
   "metadata": {},
   "source": [
    "There are lot of outliers and the data of those outliers seems to be legit information at times and removing them will be giving us a huge information loss. Due to this reason i am not removing the outliers."
   ]
  },
  {
   "cell_type": "markdown",
   "metadata": {},
   "source": [
    "Instead of removing the outliers \"Outlier capping\" method is going to be used below using percentile calculation\n",
    "##### now lets go for handling the outliers"
   ]
  },
  {
   "cell_type": "code",
   "execution_count": 18,
   "metadata": {},
   "outputs": [],
   "source": [
    "# The feature \"age\" is going to be capped for 70 the values above 70 in age will be replaced by 70\n",
    "BankData['age'][BankData['age']>71] = 71"
   ]
  },
  {
   "cell_type": "code",
   "execution_count": 19,
   "metadata": {},
   "outputs": [
    {
     "name": "stdout",
     "output_type": "stream",
     "text": [
      "5768.0\n"
     ]
    }
   ],
   "source": [
    "print(BankData['balance'].quantile(.95))"
   ]
  },
  {
   "cell_type": "code",
   "execution_count": 20,
   "metadata": {},
   "outputs": [],
   "source": [
    "# The feature \"balance\" im replacing the upper 5% of the data with 95th percentile\n",
    "BankData['balance'][BankData['balance']>BankData['balance'].quantile(0.95)] = BankData['balance'].quantile(.95)"
   ]
  },
  {
   "cell_type": "code",
   "execution_count": 21,
   "metadata": {},
   "outputs": [],
   "source": [
    "# in the feature \"balance\" the lower limit is set to -2000 and those below that walue are replaced with -2000\"\n",
    "BankData['balance'][BankData['balance']<-2000] = -2000"
   ]
  },
  {
   "cell_type": "code",
   "execution_count": 22,
   "metadata": {},
   "outputs": [
    {
     "name": "stdout",
     "output_type": "stream",
     "text": [
      "8.0\n"
     ]
    }
   ],
   "source": [
    "print(BankData['campaign'].quantile(.95))"
   ]
  },
  {
   "cell_type": "code",
   "execution_count": 23,
   "metadata": {},
   "outputs": [],
   "source": [
    "# The feature \"campaign\" im replacing the upper 5% of the data with 90th percentile \n",
    "#i checked with 10% but it seems to affect the real data a lot even after outliers\n",
    "BankData['campaign'][BankData['campaign']>BankData['campaign'].quantile(0.95)] = BankData['campaign'].quantile(.95)"
   ]
  },
  {
   "cell_type": "code",
   "execution_count": 24,
   "metadata": {},
   "outputs": [
    {
     "name": "stdout",
     "output_type": "stream",
     "text": [
      "185.0\n"
     ]
    }
   ],
   "source": [
    "print(BankData['pdays'].quantile(.90))"
   ]
  },
  {
   "cell_type": "code",
   "execution_count": 25,
   "metadata": {},
   "outputs": [],
   "source": [
    "# The feature pdays im replacing the upper 10% of the data with 90th percentile\n",
    "BankData['pdays'][BankData['pdays']>BankData['pdays'].quantile(0.90)] = BankData['pdays'].quantile(.90)"
   ]
  },
  {
   "cell_type": "code",
   "execution_count": 26,
   "metadata": {},
   "outputs": [
    {
     "name": "stdout",
     "output_type": "stream",
     "text": [
      "3.0\n"
     ]
    }
   ],
   "source": [
    "print(BankData['previous'].quantile(.95))"
   ]
  },
  {
   "cell_type": "code",
   "execution_count": 27,
   "metadata": {},
   "outputs": [],
   "source": [
    "# The feature previous im replacing the upper 5% of the data with 95th percentile \n",
    "#since 90% is just 2 which gives a very narrow margin\n",
    "BankData['previous'][BankData['previous']>BankData['previous'].quantile(0.95)] = BankData['previous'].quantile(.95)"
   ]
  },
  {
   "cell_type": "code",
   "execution_count": 28,
   "metadata": {},
   "outputs": [
    {
     "data": {
      "text/html": [
       "<div>\n",
       "<style scoped>\n",
       "    .dataframe tbody tr th:only-of-type {\n",
       "        vertical-align: middle;\n",
       "    }\n",
       "\n",
       "    .dataframe tbody tr th {\n",
       "        vertical-align: top;\n",
       "    }\n",
       "\n",
       "    .dataframe thead th {\n",
       "        text-align: right;\n",
       "    }\n",
       "</style>\n",
       "<table border=\"1\" class=\"dataframe\">\n",
       "  <thead>\n",
       "    <tr style=\"text-align: right;\">\n",
       "      <th></th>\n",
       "      <th>age</th>\n",
       "      <th>balance</th>\n",
       "      <th>day</th>\n",
       "      <th>duration</th>\n",
       "      <th>campaign</th>\n",
       "      <th>pdays</th>\n",
       "      <th>previous</th>\n",
       "    </tr>\n",
       "  </thead>\n",
       "  <tbody>\n",
       "    <tr>\n",
       "      <td>count</td>\n",
       "      <td>45211.000000</td>\n",
       "      <td>45211.000000</td>\n",
       "      <td>45211.000000</td>\n",
       "      <td>45211.000000</td>\n",
       "      <td>45211.000000</td>\n",
       "      <td>45211.000000</td>\n",
       "      <td>45211.000000</td>\n",
       "    </tr>\n",
       "    <tr>\n",
       "      <td>mean</td>\n",
       "      <td>40.873571</td>\n",
       "      <td>1101.992546</td>\n",
       "      <td>15.806419</td>\n",
       "      <td>258.163080</td>\n",
       "      <td>2.511513</td>\n",
       "      <td>27.932605</td>\n",
       "      <td>0.378691</td>\n",
       "    </tr>\n",
       "    <tr>\n",
       "      <td>std</td>\n",
       "      <td>10.410365</td>\n",
       "      <td>1596.411288</td>\n",
       "      <td>8.322476</td>\n",
       "      <td>257.527812</td>\n",
       "      <td>1.905038</td>\n",
       "      <td>64.036866</td>\n",
       "      <td>0.881417</td>\n",
       "    </tr>\n",
       "    <tr>\n",
       "      <td>min</td>\n",
       "      <td>18.000000</td>\n",
       "      <td>-2000.000000</td>\n",
       "      <td>1.000000</td>\n",
       "      <td>0.000000</td>\n",
       "      <td>1.000000</td>\n",
       "      <td>-1.000000</td>\n",
       "      <td>0.000000</td>\n",
       "    </tr>\n",
       "    <tr>\n",
       "      <td>25%</td>\n",
       "      <td>33.000000</td>\n",
       "      <td>72.000000</td>\n",
       "      <td>8.000000</td>\n",
       "      <td>103.000000</td>\n",
       "      <td>1.000000</td>\n",
       "      <td>-1.000000</td>\n",
       "      <td>0.000000</td>\n",
       "    </tr>\n",
       "    <tr>\n",
       "      <td>50%</td>\n",
       "      <td>39.000000</td>\n",
       "      <td>448.000000</td>\n",
       "      <td>16.000000</td>\n",
       "      <td>180.000000</td>\n",
       "      <td>2.000000</td>\n",
       "      <td>-1.000000</td>\n",
       "      <td>0.000000</td>\n",
       "    </tr>\n",
       "    <tr>\n",
       "      <td>75%</td>\n",
       "      <td>48.000000</td>\n",
       "      <td>1428.000000</td>\n",
       "      <td>21.000000</td>\n",
       "      <td>319.000000</td>\n",
       "      <td>3.000000</td>\n",
       "      <td>-1.000000</td>\n",
       "      <td>0.000000</td>\n",
       "    </tr>\n",
       "    <tr>\n",
       "      <td>max</td>\n",
       "      <td>71.000000</td>\n",
       "      <td>5768.000000</td>\n",
       "      <td>31.000000</td>\n",
       "      <td>4918.000000</td>\n",
       "      <td>8.000000</td>\n",
       "      <td>185.000000</td>\n",
       "      <td>3.000000</td>\n",
       "    </tr>\n",
       "  </tbody>\n",
       "</table>\n",
       "</div>"
      ],
      "text/plain": [
       "                age       balance           day      duration      campaign  \\\n",
       "count  45211.000000  45211.000000  45211.000000  45211.000000  45211.000000   \n",
       "mean      40.873571   1101.992546     15.806419    258.163080      2.511513   \n",
       "std       10.410365   1596.411288      8.322476    257.527812      1.905038   \n",
       "min       18.000000  -2000.000000      1.000000      0.000000      1.000000   \n",
       "25%       33.000000     72.000000      8.000000    103.000000      1.000000   \n",
       "50%       39.000000    448.000000     16.000000    180.000000      2.000000   \n",
       "75%       48.000000   1428.000000     21.000000    319.000000      3.000000   \n",
       "max       71.000000   5768.000000     31.000000   4918.000000      8.000000   \n",
       "\n",
       "              pdays      previous  \n",
       "count  45211.000000  45211.000000  \n",
       "mean      27.932605      0.378691  \n",
       "std       64.036866      0.881417  \n",
       "min       -1.000000      0.000000  \n",
       "25%       -1.000000      0.000000  \n",
       "50%       -1.000000      0.000000  \n",
       "75%       -1.000000      0.000000  \n",
       "max      185.000000      3.000000  "
      ]
     },
     "execution_count": 28,
     "metadata": {},
     "output_type": "execute_result"
    }
   ],
   "source": [
    "BankData.describe()"
   ]
  },
  {
   "cell_type": "markdown",
   "metadata": {},
   "source": [
    "Now let view how the data looks like after the outliers have been handled. If we notice we can find that the upper limits of the features\"age\", \"balance\", \"campaign\", \"pdays\", \"previous\" have been changed and lower limit of the balance have been changed too."
   ]
  },
  {
   "cell_type": "code",
   "execution_count": 29,
   "metadata": {},
   "outputs": [
    {
     "data": {
      "image/png": "[encoded data removed]",
      "text/plain": [
       "<Figure size 1440x1440 with 10 Axes>"
      ]
     },
     "metadata": {
      "needs_background": "light"
     },
     "output_type": "display_data"
    }
   ],
   "source": [
    "fig, ax = plt.subplots(nrows = 5, ncols = 2,figsize = (20,20))\n",
    "#fig.set_size_inches(20,4)\n",
    "sns.distplot(BankData['age'],ax=ax[0][0])\n",
    "sns.boxplot(BankData['age'],ax=ax[0][1])\n",
    "sns.distplot(BankData['balance'],ax=ax[1][0])\n",
    "sns.boxplot(BankData['balance'],ax=ax[1][1])\n",
    "sns.distplot(BankData['campaign'],ax=ax[2][0])\n",
    "sns.boxplot(BankData['campaign'],ax=ax[2][1])\n",
    "sns.distplot(BankData['pdays'],ax=ax[3][0])\n",
    "sns.boxplot(BankData['pdays'],ax=ax[3][1])\n",
    "sns.distplot(BankData['previous'],ax=ax[4][0])\n",
    "sns.boxplot(BankData['previous'],ax=ax[4][1])\n",
    "fig.show()"
   ]
  },
  {
   "cell_type": "markdown",
   "metadata": {},
   "source": [
    "The Data after cleaning of outliers looks litte better and we will further process the data"
   ]
  },
  {
   "cell_type": "markdown",
   "metadata": {},
   "source": [
    "###### Let us see the relation between the Numerical features"
   ]
  },
  {
   "cell_type": "code",
   "execution_count": 30,
   "metadata": {},
   "outputs": [
    {
     "data": {
      "text/html": [
       "<div>\n",
       "<style scoped>\n",
       "    .dataframe tbody tr th:only-of-type {\n",
       "        vertical-align: middle;\n",
       "    }\n",
       "\n",
       "    .dataframe tbody tr th {\n",
       "        vertical-align: top;\n",
       "    }\n",
       "\n",
       "    .dataframe thead th {\n",
       "        text-align: right;\n",
       "    }\n",
       "</style>\n",
       "<table border=\"1\" class=\"dataframe\">\n",
       "  <thead>\n",
       "    <tr style=\"text-align: right;\">\n",
       "      <th></th>\n",
       "      <th>age</th>\n",
       "      <th>balance</th>\n",
       "      <th>day</th>\n",
       "      <th>duration</th>\n",
       "      <th>campaign</th>\n",
       "      <th>pdays</th>\n",
       "      <th>previous</th>\n",
       "    </tr>\n",
       "  </thead>\n",
       "  <tbody>\n",
       "    <tr>\n",
       "      <td>age</td>\n",
       "      <td>1.000000</td>\n",
       "      <td>0.116642</td>\n",
       "      <td>-0.008866</td>\n",
       "      <td>-0.006466</td>\n",
       "      <td>0.022053</td>\n",
       "      <td>-0.009454</td>\n",
       "      <td>0.004295</td>\n",
       "    </tr>\n",
       "    <tr>\n",
       "      <td>balance</td>\n",
       "      <td>0.116642</td>\n",
       "      <td>1.000000</td>\n",
       "      <td>0.011349</td>\n",
       "      <td>0.036817</td>\n",
       "      <td>-0.023155</td>\n",
       "      <td>0.039024</td>\n",
       "      <td>0.051255</td>\n",
       "    </tr>\n",
       "    <tr>\n",
       "      <td>day</td>\n",
       "      <td>-0.008866</td>\n",
       "      <td>0.011349</td>\n",
       "      <td>1.000000</td>\n",
       "      <td>-0.030206</td>\n",
       "      <td>0.160417</td>\n",
       "      <td>-0.086856</td>\n",
       "      <td>-0.079935</td>\n",
       "    </tr>\n",
       "    <tr>\n",
       "      <td>duration</td>\n",
       "      <td>-0.006466</td>\n",
       "      <td>0.036817</td>\n",
       "      <td>-0.030206</td>\n",
       "      <td>1.000000</td>\n",
       "      <td>-0.074824</td>\n",
       "      <td>0.002633</td>\n",
       "      <td>0.006111</td>\n",
       "    </tr>\n",
       "    <tr>\n",
       "      <td>campaign</td>\n",
       "      <td>0.022053</td>\n",
       "      <td>-0.023155</td>\n",
       "      <td>0.160417</td>\n",
       "      <td>-0.074824</td>\n",
       "      <td>1.000000</td>\n",
       "      <td>-0.105458</td>\n",
       "      <td>-0.086830</td>\n",
       "    </tr>\n",
       "    <tr>\n",
       "      <td>pdays</td>\n",
       "      <td>-0.009454</td>\n",
       "      <td>0.039024</td>\n",
       "      <td>-0.086856</td>\n",
       "      <td>0.002633</td>\n",
       "      <td>-0.105458</td>\n",
       "      <td>1.000000</td>\n",
       "      <td>0.859795</td>\n",
       "    </tr>\n",
       "    <tr>\n",
       "      <td>previous</td>\n",
       "      <td>0.004295</td>\n",
       "      <td>0.051255</td>\n",
       "      <td>-0.079935</td>\n",
       "      <td>0.006111</td>\n",
       "      <td>-0.086830</td>\n",
       "      <td>0.859795</td>\n",
       "      <td>1.000000</td>\n",
       "    </tr>\n",
       "  </tbody>\n",
       "</table>\n",
       "</div>"
      ],
      "text/plain": [
       "               age   balance       day  duration  campaign     pdays  previous\n",
       "age       1.000000  0.116642 -0.008866 -0.006466  0.022053 -0.009454  0.004295\n",
       "balance   0.116642  1.000000  0.011349  0.036817 -0.023155  0.039024  0.051255\n",
       "day      -0.008866  0.011349  1.000000 -0.030206  0.160417 -0.086856 -0.079935\n",
       "duration -0.006466  0.036817 -0.030206  1.000000 -0.074824  0.002633  0.006111\n",
       "campaign  0.022053 -0.023155  0.160417 -0.074824  1.000000 -0.105458 -0.086830\n",
       "pdays    -0.009454  0.039024 -0.086856  0.002633 -0.105458  1.000000  0.859795\n",
       "previous  0.004295  0.051255 -0.079935  0.006111 -0.086830  0.859795  1.000000"
      ]
     },
     "execution_count": 30,
     "metadata": {},
     "output_type": "execute_result"
    }
   ],
   "source": [
    "BankData.corr()"
   ]
  },
  {
   "cell_type": "code",
   "execution_count": 31,
   "metadata": {},
   "outputs": [
    {
     "data": {
      "image/png": "[encoded data removed]",
      "text/plain": [
       "<Figure size 1440x720 with 2 Axes>"
      ]
     },
     "metadata": {
      "needs_background": "light"
     },
     "output_type": "display_data"
    }
   ],
   "source": [
    "plt.figure(figsize = (20,10))\n",
    "sns.heatmap(BankData.corr(),annot = True)\n",
    "plt.show()"
   ]
  },
  {
   "cell_type": "markdown",
   "metadata": {},
   "source": [
    "- pdays and previous seems to be highly corelated since they have the highest in the matrix which is .86\n",
    "- duration is least corelated to pdays which is very low.\n",
    "- duration and day is negatively co related same for pdays and day. but campaign and pdays has the highest negative corealtion. "
   ]
  },
  {
   "cell_type": "markdown",
   "metadata": {},
   "source": [
    "## 4. Preparing the data to train the Models"
   ]
  },
  {
   "cell_type": "markdown",
   "metadata": {},
   "source": [
    "Since the target will be known at the end of the call we will be dropping the column duration since we are making a model to predict the outcome."
   ]
  },
  {
   "cell_type": "code",
   "execution_count": 32,
   "metadata": {},
   "outputs": [
    {
     "data": {
      "text/plain": [
       "(45211, 16)"
      ]
     },
     "execution_count": 32,
     "metadata": {},
     "output_type": "execute_result"
    }
   ],
   "source": [
    "BankData = BankData.drop(\"duration\",axis = 1)\n",
    "BankData.shape"
   ]
  },
  {
   "cell_type": "markdown",
   "metadata": {},
   "source": [
    "Now the First step in preparing the data is how we are going to handle the Categorical data.\n",
    "- converting all the object type to categorical datatype"
   ]
  },
  {
   "cell_type": "code",
   "execution_count": 33,
   "metadata": {},
   "outputs": [
    {
     "data": {
      "text/html": [
       "<div>\n",
       "<style scoped>\n",
       "    .dataframe tbody tr th:only-of-type {\n",
       "        vertical-align: middle;\n",
       "    }\n",
       "\n",
       "    .dataframe tbody tr th {\n",
       "        vertical-align: top;\n",
       "    }\n",
       "\n",
       "    .dataframe thead th {\n",
       "        text-align: right;\n",
       "    }\n",
       "</style>\n",
       "<table border=\"1\" class=\"dataframe\">\n",
       "  <thead>\n",
       "    <tr style=\"text-align: right;\">\n",
       "      <th></th>\n",
       "      <th>age</th>\n",
       "      <th>job</th>\n",
       "      <th>marital</th>\n",
       "      <th>education</th>\n",
       "      <th>default</th>\n",
       "      <th>balance</th>\n",
       "      <th>housing</th>\n",
       "      <th>loan</th>\n",
       "      <th>contact</th>\n",
       "      <th>day</th>\n",
       "      <th>month</th>\n",
       "      <th>campaign</th>\n",
       "      <th>pdays</th>\n",
       "      <th>previous</th>\n",
       "      <th>poutcome</th>\n",
       "      <th>Target</th>\n",
       "    </tr>\n",
       "  </thead>\n",
       "  <tbody>\n",
       "    <tr>\n",
       "      <td>0</td>\n",
       "      <td>58</td>\n",
       "      <td>management</td>\n",
       "      <td>married</td>\n",
       "      <td>tertiary</td>\n",
       "      <td>no</td>\n",
       "      <td>2143</td>\n",
       "      <td>yes</td>\n",
       "      <td>no</td>\n",
       "      <td>unknown</td>\n",
       "      <td>5</td>\n",
       "      <td>may</td>\n",
       "      <td>1</td>\n",
       "      <td>-1</td>\n",
       "      <td>0</td>\n",
       "      <td>unknown</td>\n",
       "      <td>no</td>\n",
       "    </tr>\n",
       "    <tr>\n",
       "      <td>1</td>\n",
       "      <td>44</td>\n",
       "      <td>technician</td>\n",
       "      <td>single</td>\n",
       "      <td>secondary</td>\n",
       "      <td>no</td>\n",
       "      <td>29</td>\n",
       "      <td>yes</td>\n",
       "      <td>no</td>\n",
       "      <td>unknown</td>\n",
       "      <td>5</td>\n",
       "      <td>may</td>\n",
       "      <td>1</td>\n",
       "      <td>-1</td>\n",
       "      <td>0</td>\n",
       "      <td>unknown</td>\n",
       "      <td>no</td>\n",
       "    </tr>\n",
       "    <tr>\n",
       "      <td>2</td>\n",
       "      <td>33</td>\n",
       "      <td>entrepreneur</td>\n",
       "      <td>married</td>\n",
       "      <td>secondary</td>\n",
       "      <td>no</td>\n",
       "      <td>2</td>\n",
       "      <td>yes</td>\n",
       "      <td>yes</td>\n",
       "      <td>unknown</td>\n",
       "      <td>5</td>\n",
       "      <td>may</td>\n",
       "      <td>1</td>\n",
       "      <td>-1</td>\n",
       "      <td>0</td>\n",
       "      <td>unknown</td>\n",
       "      <td>no</td>\n",
       "    </tr>\n",
       "    <tr>\n",
       "      <td>3</td>\n",
       "      <td>47</td>\n",
       "      <td>blue-collar</td>\n",
       "      <td>married</td>\n",
       "      <td>unknown</td>\n",
       "      <td>no</td>\n",
       "      <td>1506</td>\n",
       "      <td>yes</td>\n",
       "      <td>no</td>\n",
       "      <td>unknown</td>\n",
       "      <td>5</td>\n",
       "      <td>may</td>\n",
       "      <td>1</td>\n",
       "      <td>-1</td>\n",
       "      <td>0</td>\n",
       "      <td>unknown</td>\n",
       "      <td>no</td>\n",
       "    </tr>\n",
       "    <tr>\n",
       "      <td>4</td>\n",
       "      <td>33</td>\n",
       "      <td>unknown</td>\n",
       "      <td>single</td>\n",
       "      <td>unknown</td>\n",
       "      <td>no</td>\n",
       "      <td>1</td>\n",
       "      <td>no</td>\n",
       "      <td>no</td>\n",
       "      <td>unknown</td>\n",
       "      <td>5</td>\n",
       "      <td>may</td>\n",
       "      <td>1</td>\n",
       "      <td>-1</td>\n",
       "      <td>0</td>\n",
       "      <td>unknown</td>\n",
       "      <td>no</td>\n",
       "    </tr>\n",
       "    <tr>\n",
       "      <td>5</td>\n",
       "      <td>35</td>\n",
       "      <td>management</td>\n",
       "      <td>married</td>\n",
       "      <td>tertiary</td>\n",
       "      <td>no</td>\n",
       "      <td>231</td>\n",
       "      <td>yes</td>\n",
       "      <td>no</td>\n",
       "      <td>unknown</td>\n",
       "      <td>5</td>\n",
       "      <td>may</td>\n",
       "      <td>1</td>\n",
       "      <td>-1</td>\n",
       "      <td>0</td>\n",
       "      <td>unknown</td>\n",
       "      <td>no</td>\n",
       "    </tr>\n",
       "    <tr>\n",
       "      <td>6</td>\n",
       "      <td>28</td>\n",
       "      <td>management</td>\n",
       "      <td>single</td>\n",
       "      <td>tertiary</td>\n",
       "      <td>no</td>\n",
       "      <td>447</td>\n",
       "      <td>yes</td>\n",
       "      <td>yes</td>\n",
       "      <td>unknown</td>\n",
       "      <td>5</td>\n",
       "      <td>may</td>\n",
       "      <td>1</td>\n",
       "      <td>-1</td>\n",
       "      <td>0</td>\n",
       "      <td>unknown</td>\n",
       "      <td>no</td>\n",
       "    </tr>\n",
       "    <tr>\n",
       "      <td>7</td>\n",
       "      <td>42</td>\n",
       "      <td>entrepreneur</td>\n",
       "      <td>divorced</td>\n",
       "      <td>tertiary</td>\n",
       "      <td>yes</td>\n",
       "      <td>2</td>\n",
       "      <td>yes</td>\n",
       "      <td>no</td>\n",
       "      <td>unknown</td>\n",
       "      <td>5</td>\n",
       "      <td>may</td>\n",
       "      <td>1</td>\n",
       "      <td>-1</td>\n",
       "      <td>0</td>\n",
       "      <td>unknown</td>\n",
       "      <td>no</td>\n",
       "    </tr>\n",
       "    <tr>\n",
       "      <td>8</td>\n",
       "      <td>58</td>\n",
       "      <td>retired</td>\n",
       "      <td>married</td>\n",
       "      <td>primary</td>\n",
       "      <td>no</td>\n",
       "      <td>121</td>\n",
       "      <td>yes</td>\n",
       "      <td>no</td>\n",
       "      <td>unknown</td>\n",
       "      <td>5</td>\n",
       "      <td>may</td>\n",
       "      <td>1</td>\n",
       "      <td>-1</td>\n",
       "      <td>0</td>\n",
       "      <td>unknown</td>\n",
       "      <td>no</td>\n",
       "    </tr>\n",
       "    <tr>\n",
       "      <td>9</td>\n",
       "      <td>43</td>\n",
       "      <td>technician</td>\n",
       "      <td>single</td>\n",
       "      <td>secondary</td>\n",
       "      <td>no</td>\n",
       "      <td>593</td>\n",
       "      <td>yes</td>\n",
       "      <td>no</td>\n",
       "      <td>unknown</td>\n",
       "      <td>5</td>\n",
       "      <td>may</td>\n",
       "      <td>1</td>\n",
       "      <td>-1</td>\n",
       "      <td>0</td>\n",
       "      <td>unknown</td>\n",
       "      <td>no</td>\n",
       "    </tr>\n",
       "  </tbody>\n",
       "</table>\n",
       "</div>"
      ],
      "text/plain": [
       "   age           job   marital  education default  balance housing loan  \\\n",
       "0   58    management   married   tertiary      no     2143     yes   no   \n",
       "1   44    technician    single  secondary      no       29     yes   no   \n",
       "2   33  entrepreneur   married  secondary      no        2     yes  yes   \n",
       "3   47   blue-collar   married    unknown      no     1506     yes   no   \n",
       "4   33       unknown    single    unknown      no        1      no   no   \n",
       "5   35    management   married   tertiary      no      231     yes   no   \n",
       "6   28    management    single   tertiary      no      447     yes  yes   \n",
       "7   42  entrepreneur  divorced   tertiary     yes        2     yes   no   \n",
       "8   58       retired   married    primary      no      121     yes   no   \n",
       "9   43    technician    single  secondary      no      593     yes   no   \n",
       "\n",
       "   contact  day month  campaign  pdays  previous poutcome Target  \n",
       "0  unknown    5   may         1     -1         0  unknown     no  \n",
       "1  unknown    5   may         1     -1         0  unknown     no  \n",
       "2  unknown    5   may         1     -1         0  unknown     no  \n",
       "3  unknown    5   may         1     -1         0  unknown     no  \n",
       "4  unknown    5   may         1     -1         0  unknown     no  \n",
       "5  unknown    5   may         1     -1         0  unknown     no  \n",
       "6  unknown    5   may         1     -1         0  unknown     no  \n",
       "7  unknown    5   may         1     -1         0  unknown     no  \n",
       "8  unknown    5   may         1     -1         0  unknown     no  \n",
       "9  unknown    5   may         1     -1         0  unknown     no  "
      ]
     },
     "execution_count": 33,
     "metadata": {},
     "output_type": "execute_result"
    }
   ],
   "source": [
    "for feature in BankData.columns:\n",
    "    if BankData[feature].dtype == 'object':\n",
    "                BankData[feature] = pd.Categorical(BankData[feature])\n",
    "BankData.head(10)"
   ]
  },
  {
   "cell_type": "markdown",
   "metadata": {},
   "source": [
    "Label encoding will be used for the categories which has more than 3 types of values"
   ]
  },
  {
   "cell_type": "markdown",
   "metadata": {},
   "source": [
    "#### Label encoding\n",
    "##### job, education, month, poutcome  and target\n",
    "These are having label encoding for their specific values because they have multiple categories within them if one hot encoding is done the size of the features will explode and the data becomes cumbersome so label encoding is done for them"
   ]
  },
  {
   "cell_type": "markdown",
   "metadata": {},
   "source": [
    "the features 'job', 'education', 'month', 'poutcome', 'Target' will be label encoded with different numerical values."
   ]
  },
  {
   "cell_type": "code",
   "execution_count": 34,
   "metadata": {},
   "outputs": [
    {
     "data": {
      "text/html": [
       "<div>\n",
       "<style scoped>\n",
       "    .dataframe tbody tr th:only-of-type {\n",
       "        vertical-align: middle;\n",
       "    }\n",
       "\n",
       "    .dataframe tbody tr th {\n",
       "        vertical-align: top;\n",
       "    }\n",
       "\n",
       "    .dataframe thead th {\n",
       "        text-align: right;\n",
       "    }\n",
       "</style>\n",
       "<table border=\"1\" class=\"dataframe\">\n",
       "  <thead>\n",
       "    <tr style=\"text-align: right;\">\n",
       "      <th></th>\n",
       "      <th>age</th>\n",
       "      <th>job</th>\n",
       "      <th>marital</th>\n",
       "      <th>education</th>\n",
       "      <th>default</th>\n",
       "      <th>balance</th>\n",
       "      <th>housing</th>\n",
       "      <th>loan</th>\n",
       "      <th>contact</th>\n",
       "      <th>day</th>\n",
       "      <th>month</th>\n",
       "      <th>campaign</th>\n",
       "      <th>pdays</th>\n",
       "      <th>previous</th>\n",
       "      <th>poutcome</th>\n",
       "      <th>Target</th>\n",
       "    </tr>\n",
       "  </thead>\n",
       "  <tbody>\n",
       "    <tr>\n",
       "      <td>0</td>\n",
       "      <td>58</td>\n",
       "      <td>5</td>\n",
       "      <td>married</td>\n",
       "      <td>3</td>\n",
       "      <td>no</td>\n",
       "      <td>2143</td>\n",
       "      <td>yes</td>\n",
       "      <td>no</td>\n",
       "      <td>unknown</td>\n",
       "      <td>5</td>\n",
       "      <td>5</td>\n",
       "      <td>1</td>\n",
       "      <td>-1</td>\n",
       "      <td>0</td>\n",
       "      <td>-1</td>\n",
       "      <td>0</td>\n",
       "    </tr>\n",
       "    <tr>\n",
       "      <td>1</td>\n",
       "      <td>44</td>\n",
       "      <td>10</td>\n",
       "      <td>single</td>\n",
       "      <td>2</td>\n",
       "      <td>no</td>\n",
       "      <td>29</td>\n",
       "      <td>yes</td>\n",
       "      <td>no</td>\n",
       "      <td>unknown</td>\n",
       "      <td>5</td>\n",
       "      <td>5</td>\n",
       "      <td>1</td>\n",
       "      <td>-1</td>\n",
       "      <td>0</td>\n",
       "      <td>-1</td>\n",
       "      <td>0</td>\n",
       "    </tr>\n",
       "    <tr>\n",
       "      <td>2</td>\n",
       "      <td>33</td>\n",
       "      <td>3</td>\n",
       "      <td>married</td>\n",
       "      <td>2</td>\n",
       "      <td>no</td>\n",
       "      <td>2</td>\n",
       "      <td>yes</td>\n",
       "      <td>yes</td>\n",
       "      <td>unknown</td>\n",
       "      <td>5</td>\n",
       "      <td>5</td>\n",
       "      <td>1</td>\n",
       "      <td>-1</td>\n",
       "      <td>0</td>\n",
       "      <td>-1</td>\n",
       "      <td>0</td>\n",
       "    </tr>\n",
       "    <tr>\n",
       "      <td>3</td>\n",
       "      <td>47</td>\n",
       "      <td>2</td>\n",
       "      <td>married</td>\n",
       "      <td>-1</td>\n",
       "      <td>no</td>\n",
       "      <td>1506</td>\n",
       "      <td>yes</td>\n",
       "      <td>no</td>\n",
       "      <td>unknown</td>\n",
       "      <td>5</td>\n",
       "      <td>5</td>\n",
       "      <td>1</td>\n",
       "      <td>-1</td>\n",
       "      <td>0</td>\n",
       "      <td>-1</td>\n",
       "      <td>0</td>\n",
       "    </tr>\n",
       "    <tr>\n",
       "      <td>4</td>\n",
       "      <td>33</td>\n",
       "      <td>-1</td>\n",
       "      <td>single</td>\n",
       "      <td>-1</td>\n",
       "      <td>no</td>\n",
       "      <td>1</td>\n",
       "      <td>no</td>\n",
       "      <td>no</td>\n",
       "      <td>unknown</td>\n",
       "      <td>5</td>\n",
       "      <td>5</td>\n",
       "      <td>1</td>\n",
       "      <td>-1</td>\n",
       "      <td>0</td>\n",
       "      <td>-1</td>\n",
       "      <td>0</td>\n",
       "    </tr>\n",
       "    <tr>\n",
       "      <td>5</td>\n",
       "      <td>35</td>\n",
       "      <td>5</td>\n",
       "      <td>married</td>\n",
       "      <td>3</td>\n",
       "      <td>no</td>\n",
       "      <td>231</td>\n",
       "      <td>yes</td>\n",
       "      <td>no</td>\n",
       "      <td>unknown</td>\n",
       "      <td>5</td>\n",
       "      <td>5</td>\n",
       "      <td>1</td>\n",
       "      <td>-1</td>\n",
       "      <td>0</td>\n",
       "      <td>-1</td>\n",
       "      <td>0</td>\n",
       "    </tr>\n",
       "    <tr>\n",
       "      <td>6</td>\n",
       "      <td>28</td>\n",
       "      <td>5</td>\n",
       "      <td>single</td>\n",
       "      <td>3</td>\n",
       "      <td>no</td>\n",
       "      <td>447</td>\n",
       "      <td>yes</td>\n",
       "      <td>yes</td>\n",
       "      <td>unknown</td>\n",
       "      <td>5</td>\n",
       "      <td>5</td>\n",
       "      <td>1</td>\n",
       "      <td>-1</td>\n",
       "      <td>0</td>\n",
       "      <td>-1</td>\n",
       "      <td>0</td>\n",
       "    </tr>\n",
       "    <tr>\n",
       "      <td>7</td>\n",
       "      <td>42</td>\n",
       "      <td>3</td>\n",
       "      <td>divorced</td>\n",
       "      <td>3</td>\n",
       "      <td>yes</td>\n",
       "      <td>2</td>\n",
       "      <td>yes</td>\n",
       "      <td>no</td>\n",
       "      <td>unknown</td>\n",
       "      <td>5</td>\n",
       "      <td>5</td>\n",
       "      <td>1</td>\n",
       "      <td>-1</td>\n",
       "      <td>0</td>\n",
       "      <td>-1</td>\n",
       "      <td>0</td>\n",
       "    </tr>\n",
       "    <tr>\n",
       "      <td>8</td>\n",
       "      <td>58</td>\n",
       "      <td>6</td>\n",
       "      <td>married</td>\n",
       "      <td>1</td>\n",
       "      <td>no</td>\n",
       "      <td>121</td>\n",
       "      <td>yes</td>\n",
       "      <td>no</td>\n",
       "      <td>unknown</td>\n",
       "      <td>5</td>\n",
       "      <td>5</td>\n",
       "      <td>1</td>\n",
       "      <td>-1</td>\n",
       "      <td>0</td>\n",
       "      <td>-1</td>\n",
       "      <td>0</td>\n",
       "    </tr>\n",
       "    <tr>\n",
       "      <td>9</td>\n",
       "      <td>43</td>\n",
       "      <td>10</td>\n",
       "      <td>single</td>\n",
       "      <td>2</td>\n",
       "      <td>no</td>\n",
       "      <td>593</td>\n",
       "      <td>yes</td>\n",
       "      <td>no</td>\n",
       "      <td>unknown</td>\n",
       "      <td>5</td>\n",
       "      <td>5</td>\n",
       "      <td>1</td>\n",
       "      <td>-1</td>\n",
       "      <td>0</td>\n",
       "      <td>-1</td>\n",
       "      <td>0</td>\n",
       "    </tr>\n",
       "  </tbody>\n",
       "</table>\n",
       "</div>"
      ],
      "text/plain": [
       "   age  job   marital  education default  balance housing loan  contact  day  \\\n",
       "0   58    5   married          3      no     2143     yes   no  unknown    5   \n",
       "1   44   10    single          2      no       29     yes   no  unknown    5   \n",
       "2   33    3   married          2      no        2     yes  yes  unknown    5   \n",
       "3   47    2   married         -1      no     1506     yes   no  unknown    5   \n",
       "4   33   -1    single         -1      no        1      no   no  unknown    5   \n",
       "5   35    5   married          3      no      231     yes   no  unknown    5   \n",
       "6   28    5    single          3      no      447     yes  yes  unknown    5   \n",
       "7   42    3  divorced          3     yes        2     yes   no  unknown    5   \n",
       "8   58    6   married          1      no      121     yes   no  unknown    5   \n",
       "9   43   10    single          2      no      593     yes   no  unknown    5   \n",
       "\n",
       "   month  campaign  pdays  previous  poutcome  Target  \n",
       "0      5         1     -1         0        -1       0  \n",
       "1      5         1     -1         0        -1       0  \n",
       "2      5         1     -1         0        -1       0  \n",
       "3      5         1     -1         0        -1       0  \n",
       "4      5         1     -1         0        -1       0  \n",
       "5      5         1     -1         0        -1       0  \n",
       "6      5         1     -1         0        -1       0  \n",
       "7      5         1     -1         0        -1       0  \n",
       "8      5         1     -1         0        -1       0  \n",
       "9      5         1     -1         0        -1       0  "
      ]
     },
     "execution_count": 34,
     "metadata": {},
     "output_type": "execute_result"
    }
   ],
   "source": [
    "lable_replace = {\n",
    "    'job': {'admin.' : 1,'blue-collar' : 2,'entrepreneur' : 3, 'housemaid' : 4,'management' : 5,'retired' :6, 'self-employed' : 7,'services' : 8,'student' : 9,'technician' : 10, 'unemployed' : 11, 'unknown' : -1},\n",
    "    'education' : {'primary' : 1, 'secondary' : 2, 'tertiary' : 3, 'unknown' : -1},    \n",
    "    'month' : { 'jan' : 1, 'feb' : 2, 'mar' : 3, 'apr' : 4, 'may' : 5 ,'jun' : 6, 'jul' : 7, 'aug' : 8, 'sep' : 9 , 'oct' : 10,'nov' : 11, 'dec' : 12},\n",
    "    'poutcome' : {'failure' : 1 , 'other' : 2, 'success' : 3, 'unknown' : -1},\n",
    "    'Target' : { 'no' : 0, 'yes' : 1}\n",
    "}\n",
    "BankData=BankData.replace(lable_replace)\n",
    "BankData.head(10)"
   ]
  },
  {
   "cell_type": "markdown",
   "metadata": {},
   "source": [
    "#### One Hot encoding\n",
    "##### marital, default, housing, loan, contact\n",
    "These features has undergone one hot encoding since the outcome of default, housing and loan are of yes or no type.\n",
    "marital and contact has just 3 features and are very simple"
   ]
  },
  {
   "cell_type": "markdown",
   "metadata": {},
   "source": [
    "Next part is one hot encoding of the features which has 3 or less than 3 values"
   ]
  },
  {
   "cell_type": "code",
   "execution_count": 35,
   "metadata": {},
   "outputs": [
    {
     "data": {
      "text/html": [
       "<div>\n",
       "<style scoped>\n",
       "    .dataframe tbody tr th:only-of-type {\n",
       "        vertical-align: middle;\n",
       "    }\n",
       "\n",
       "    .dataframe tbody tr th {\n",
       "        vertical-align: top;\n",
       "    }\n",
       "\n",
       "    .dataframe thead th {\n",
       "        text-align: right;\n",
       "    }\n",
       "</style>\n",
       "<table border=\"1\" class=\"dataframe\">\n",
       "  <thead>\n",
       "    <tr style=\"text-align: right;\">\n",
       "      <th></th>\n",
       "      <th>age</th>\n",
       "      <th>job</th>\n",
       "      <th>education</th>\n",
       "      <th>balance</th>\n",
       "      <th>day</th>\n",
       "      <th>month</th>\n",
       "      <th>campaign</th>\n",
       "      <th>pdays</th>\n",
       "      <th>previous</th>\n",
       "      <th>poutcome</th>\n",
       "      <th>Target</th>\n",
       "      <th>marital_married</th>\n",
       "      <th>marital_single</th>\n",
       "      <th>default_yes</th>\n",
       "      <th>housing_yes</th>\n",
       "      <th>loan_yes</th>\n",
       "      <th>contact_telephone</th>\n",
       "      <th>contact_unknown</th>\n",
       "    </tr>\n",
       "  </thead>\n",
       "  <tbody>\n",
       "    <tr>\n",
       "      <td>0</td>\n",
       "      <td>58</td>\n",
       "      <td>5</td>\n",
       "      <td>3</td>\n",
       "      <td>2143</td>\n",
       "      <td>5</td>\n",
       "      <td>5</td>\n",
       "      <td>1</td>\n",
       "      <td>-1</td>\n",
       "      <td>0</td>\n",
       "      <td>-1</td>\n",
       "      <td>0</td>\n",
       "      <td>1</td>\n",
       "      <td>0</td>\n",
       "      <td>0</td>\n",
       "      <td>1</td>\n",
       "      <td>0</td>\n",
       "      <td>0</td>\n",
       "      <td>1</td>\n",
       "    </tr>\n",
       "    <tr>\n",
       "      <td>1</td>\n",
       "      <td>44</td>\n",
       "      <td>10</td>\n",
       "      <td>2</td>\n",
       "      <td>29</td>\n",
       "      <td>5</td>\n",
       "      <td>5</td>\n",
       "      <td>1</td>\n",
       "      <td>-1</td>\n",
       "      <td>0</td>\n",
       "      <td>-1</td>\n",
       "      <td>0</td>\n",
       "      <td>0</td>\n",
       "      <td>1</td>\n",
       "      <td>0</td>\n",
       "      <td>1</td>\n",
       "      <td>0</td>\n",
       "      <td>0</td>\n",
       "      <td>1</td>\n",
       "    </tr>\n",
       "    <tr>\n",
       "      <td>2</td>\n",
       "      <td>33</td>\n",
       "      <td>3</td>\n",
       "      <td>2</td>\n",
       "      <td>2</td>\n",
       "      <td>5</td>\n",
       "      <td>5</td>\n",
       "      <td>1</td>\n",
       "      <td>-1</td>\n",
       "      <td>0</td>\n",
       "      <td>-1</td>\n",
       "      <td>0</td>\n",
       "      <td>1</td>\n",
       "      <td>0</td>\n",
       "      <td>0</td>\n",
       "      <td>1</td>\n",
       "      <td>1</td>\n",
       "      <td>0</td>\n",
       "      <td>1</td>\n",
       "    </tr>\n",
       "    <tr>\n",
       "      <td>3</td>\n",
       "      <td>47</td>\n",
       "      <td>2</td>\n",
       "      <td>-1</td>\n",
       "      <td>1506</td>\n",
       "      <td>5</td>\n",
       "      <td>5</td>\n",
       "      <td>1</td>\n",
       "      <td>-1</td>\n",
       "      <td>0</td>\n",
       "      <td>-1</td>\n",
       "      <td>0</td>\n",
       "      <td>1</td>\n",
       "      <td>0</td>\n",
       "      <td>0</td>\n",
       "      <td>1</td>\n",
       "      <td>0</td>\n",
       "      <td>0</td>\n",
       "      <td>1</td>\n",
       "    </tr>\n",
       "    <tr>\n",
       "      <td>4</td>\n",
       "      <td>33</td>\n",
       "      <td>-1</td>\n",
       "      <td>-1</td>\n",
       "      <td>1</td>\n",
       "      <td>5</td>\n",
       "      <td>5</td>\n",
       "      <td>1</td>\n",
       "      <td>-1</td>\n",
       "      <td>0</td>\n",
       "      <td>-1</td>\n",
       "      <td>0</td>\n",
       "      <td>0</td>\n",
       "      <td>1</td>\n",
       "      <td>0</td>\n",
       "      <td>0</td>\n",
       "      <td>0</td>\n",
       "      <td>0</td>\n",
       "      <td>1</td>\n",
       "    </tr>\n",
       "    <tr>\n",
       "      <td>5</td>\n",
       "      <td>35</td>\n",
       "      <td>5</td>\n",
       "      <td>3</td>\n",
       "      <td>231</td>\n",
       "      <td>5</td>\n",
       "      <td>5</td>\n",
       "      <td>1</td>\n",
       "      <td>-1</td>\n",
       "      <td>0</td>\n",
       "      <td>-1</td>\n",
       "      <td>0</td>\n",
       "      <td>1</td>\n",
       "      <td>0</td>\n",
       "      <td>0</td>\n",
       "      <td>1</td>\n",
       "      <td>0</td>\n",
       "      <td>0</td>\n",
       "      <td>1</td>\n",
       "    </tr>\n",
       "    <tr>\n",
       "      <td>6</td>\n",
       "      <td>28</td>\n",
       "      <td>5</td>\n",
       "      <td>3</td>\n",
       "      <td>447</td>\n",
       "      <td>5</td>\n",
       "      <td>5</td>\n",
       "      <td>1</td>\n",
       "      <td>-1</td>\n",
       "      <td>0</td>\n",
       "      <td>-1</td>\n",
       "      <td>0</td>\n",
       "      <td>0</td>\n",
       "      <td>1</td>\n",
       "      <td>0</td>\n",
       "      <td>1</td>\n",
       "      <td>1</td>\n",
       "      <td>0</td>\n",
       "      <td>1</td>\n",
       "    </tr>\n",
       "    <tr>\n",
       "      <td>7</td>\n",
       "      <td>42</td>\n",
       "      <td>3</td>\n",
       "      <td>3</td>\n",
       "      <td>2</td>\n",
       "      <td>5</td>\n",
       "      <td>5</td>\n",
       "      <td>1</td>\n",
       "      <td>-1</td>\n",
       "      <td>0</td>\n",
       "      <td>-1</td>\n",
       "      <td>0</td>\n",
       "      <td>0</td>\n",
       "      <td>0</td>\n",
       "      <td>1</td>\n",
       "      <td>1</td>\n",
       "      <td>0</td>\n",
       "      <td>0</td>\n",
       "      <td>1</td>\n",
       "    </tr>\n",
       "    <tr>\n",
       "      <td>8</td>\n",
       "      <td>58</td>\n",
       "      <td>6</td>\n",
       "      <td>1</td>\n",
       "      <td>121</td>\n",
       "      <td>5</td>\n",
       "      <td>5</td>\n",
       "      <td>1</td>\n",
       "      <td>-1</td>\n",
       "      <td>0</td>\n",
       "      <td>-1</td>\n",
       "      <td>0</td>\n",
       "      <td>1</td>\n",
       "      <td>0</td>\n",
       "      <td>0</td>\n",
       "      <td>1</td>\n",
       "      <td>0</td>\n",
       "      <td>0</td>\n",
       "      <td>1</td>\n",
       "    </tr>\n",
       "    <tr>\n",
       "      <td>9</td>\n",
       "      <td>43</td>\n",
       "      <td>10</td>\n",
       "      <td>2</td>\n",
       "      <td>593</td>\n",
       "      <td>5</td>\n",
       "      <td>5</td>\n",
       "      <td>1</td>\n",
       "      <td>-1</td>\n",
       "      <td>0</td>\n",
       "      <td>-1</td>\n",
       "      <td>0</td>\n",
       "      <td>0</td>\n",
       "      <td>1</td>\n",
       "      <td>0</td>\n",
       "      <td>1</td>\n",
       "      <td>0</td>\n",
       "      <td>0</td>\n",
       "      <td>1</td>\n",
       "    </tr>\n",
       "  </tbody>\n",
       "</table>\n",
       "</div>"
      ],
      "text/plain": [
       "   age  job  education  balance  day  month  campaign  pdays  previous  \\\n",
       "0   58    5          3     2143    5      5         1     -1         0   \n",
       "1   44   10          2       29    5      5         1     -1         0   \n",
       "2   33    3          2        2    5      5         1     -1         0   \n",
       "3   47    2         -1     1506    5      5         1     -1         0   \n",
       "4   33   -1         -1        1    5      5         1     -1         0   \n",
       "5   35    5          3      231    5      5         1     -1         0   \n",
       "6   28    5          3      447    5      5         1     -1         0   \n",
       "7   42    3          3        2    5      5         1     -1         0   \n",
       "8   58    6          1      121    5      5         1     -1         0   \n",
       "9   43   10          2      593    5      5         1     -1         0   \n",
       "\n",
       "   poutcome  Target  marital_married  marital_single  default_yes  \\\n",
       "0        -1       0                1               0            0   \n",
       "1        -1       0                0               1            0   \n",
       "2        -1       0                1               0            0   \n",
       "3        -1       0                1               0            0   \n",
       "4        -1       0                0               1            0   \n",
       "5        -1       0                1               0            0   \n",
       "6        -1       0                0               1            0   \n",
       "7        -1       0                0               0            1   \n",
       "8        -1       0                1               0            0   \n",
       "9        -1       0                0               1            0   \n",
       "\n",
       "   housing_yes  loan_yes  contact_telephone  contact_unknown  \n",
       "0            1         0                  0                1  \n",
       "1            1         0                  0                1  \n",
       "2            1         1                  0                1  \n",
       "3            1         0                  0                1  \n",
       "4            0         0                  0                1  \n",
       "5            1         0                  0                1  \n",
       "6            1         1                  0                1  \n",
       "7            1         0                  0                1  \n",
       "8            1         0                  0                1  \n",
       "9            1         0                  0                1  "
      ]
     },
     "execution_count": 35,
     "metadata": {},
     "output_type": "execute_result"
    }
   ],
   "source": [
    "BankData = pd.get_dummies(BankData, columns = ['marital','default','housing','loan','contact'],drop_first = True)\n",
    "BankData.head(10)"
   ]
  },
  {
   "cell_type": "markdown",
   "metadata": {},
   "source": [
    "After one hot encoding we can notice 2 more extra feature is added."
   ]
  },
  {
   "cell_type": "code",
   "execution_count": 36,
   "metadata": {},
   "outputs": [
    {
     "name": "stdout",
     "output_type": "stream",
     "text": [
      "<class 'pandas.core.frame.DataFrame'>\n",
      "RangeIndex: 45211 entries, 0 to 45210\n",
      "Data columns (total 18 columns):\n",
      "age                  45211 non-null int64\n",
      "job                  45211 non-null int64\n",
      "education            45211 non-null int64\n",
      "balance              45211 non-null int64\n",
      "day                  45211 non-null int64\n",
      "month                45211 non-null int64\n",
      "campaign             45211 non-null int64\n",
      "pdays                45211 non-null int64\n",
      "previous             45211 non-null int64\n",
      "poutcome             45211 non-null int64\n",
      "Target               45211 non-null int64\n",
      "marital_married      45211 non-null uint8\n",
      "marital_single       45211 non-null uint8\n",
      "default_yes          45211 non-null uint8\n",
      "housing_yes          45211 non-null uint8\n",
      "loan_yes             45211 non-null uint8\n",
      "contact_telephone    45211 non-null uint8\n",
      "contact_unknown      45211 non-null uint8\n",
      "dtypes: int64(11), uint8(7)\n",
      "memory usage: 4.1 MB\n"
     ]
    }
   ],
   "source": [
    "BankData.info()"
   ]
  },
  {
   "cell_type": "markdown",
   "metadata": {},
   "source": [
    "Now all the features are of numerical type and will be easy for modelling"
   ]
  },
  {
   "cell_type": "markdown",
   "metadata": {},
   "source": [
    "#### Lets See the Relation of all the features"
   ]
  },
  {
   "cell_type": "code",
   "execution_count": 37,
   "metadata": {},
   "outputs": [
    {
     "data": {
      "text/html": [
       "<div>\n",
       "<style scoped>\n",
       "    .dataframe tbody tr th:only-of-type {\n",
       "        vertical-align: middle;\n",
       "    }\n",
       "\n",
       "    .dataframe tbody tr th {\n",
       "        vertical-align: top;\n",
       "    }\n",
       "\n",
       "    .dataframe thead th {\n",
       "        text-align: right;\n",
       "    }\n",
       "</style>\n",
       "<table border=\"1\" class=\"dataframe\">\n",
       "  <thead>\n",
       "    <tr style=\"text-align: right;\">\n",
       "      <th></th>\n",
       "      <th>age</th>\n",
       "      <th>job</th>\n",
       "      <th>education</th>\n",
       "      <th>balance</th>\n",
       "      <th>day</th>\n",
       "      <th>month</th>\n",
       "      <th>campaign</th>\n",
       "      <th>pdays</th>\n",
       "      <th>previous</th>\n",
       "      <th>poutcome</th>\n",
       "      <th>Target</th>\n",
       "      <th>marital_married</th>\n",
       "      <th>marital_single</th>\n",
       "      <th>default_yes</th>\n",
       "      <th>housing_yes</th>\n",
       "      <th>loan_yes</th>\n",
       "      <th>contact_telephone</th>\n",
       "      <th>contact_unknown</th>\n",
       "    </tr>\n",
       "  </thead>\n",
       "  <tbody>\n",
       "    <tr>\n",
       "      <td>age</td>\n",
       "      <td>1.000000</td>\n",
       "      <td>-0.039507</td>\n",
       "      <td>-0.163148</td>\n",
       "      <td>0.116642</td>\n",
       "      <td>-0.008866</td>\n",
       "      <td>0.093595</td>\n",
       "      <td>0.022053</td>\n",
       "      <td>-0.009454</td>\n",
       "      <td>0.004295</td>\n",
       "      <td>0.004749</td>\n",
       "      <td>0.019480</td>\n",
       "      <td>0.290762</td>\n",
       "      <td>-0.432856</td>\n",
       "      <td>-0.017422</td>\n",
       "      <td>-0.182671</td>\n",
       "      <td>-0.013352</td>\n",
       "      <td>0.161656</td>\n",
       "      <td>-0.016708</td>\n",
       "    </tr>\n",
       "    <tr>\n",
       "      <td>job</td>\n",
       "      <td>-0.039507</td>\n",
       "      <td>1.000000</td>\n",
       "      <td>0.151021</td>\n",
       "      <td>0.020643</td>\n",
       "      <td>0.026436</td>\n",
       "      <td>0.040237</td>\n",
       "      <td>0.004267</td>\n",
       "      <td>-0.006564</td>\n",
       "      <td>0.004906</td>\n",
       "      <td>0.011379</td>\n",
       "      <td>0.040417</td>\n",
       "      <td>-0.098719</td>\n",
       "      <td>0.095339</td>\n",
       "      <td>-0.004753</td>\n",
       "      <td>-0.101812</td>\n",
       "      <td>-0.022945</td>\n",
       "      <td>-0.012440</td>\n",
       "      <td>-0.086248</td>\n",
       "    </tr>\n",
       "    <tr>\n",
       "      <td>education</td>\n",
       "      <td>-0.163148</td>\n",
       "      <td>0.151021</td>\n",
       "      <td>1.000000</td>\n",
       "      <td>0.037739</td>\n",
       "      <td>0.018659</td>\n",
       "      <td>0.061910</td>\n",
       "      <td>0.003889</td>\n",
       "      <td>0.018391</td>\n",
       "      <td>0.033332</td>\n",
       "      <td>0.035317</td>\n",
       "      <td>0.041634</td>\n",
       "      <td>-0.110970</td>\n",
       "      <td>0.114576</td>\n",
       "      <td>-0.007522</td>\n",
       "      <td>-0.022908</td>\n",
       "      <td>0.014705</td>\n",
       "      <td>-0.071879</td>\n",
       "      <td>-0.119689</td>\n",
       "    </tr>\n",
       "    <tr>\n",
       "      <td>balance</td>\n",
       "      <td>0.116642</td>\n",
       "      <td>0.020643</td>\n",
       "      <td>0.037739</td>\n",
       "      <td>1.000000</td>\n",
       "      <td>0.011349</td>\n",
       "      <td>0.112403</td>\n",
       "      <td>-0.023155</td>\n",
       "      <td>0.039024</td>\n",
       "      <td>0.051255</td>\n",
       "      <td>0.059843</td>\n",
       "      <td>0.081336</td>\n",
       "      <td>0.032926</td>\n",
       "      <td>-0.013432</td>\n",
       "      <td>-0.104798</td>\n",
       "      <td>-0.077378</td>\n",
       "      <td>-0.112464</td>\n",
       "      <td>0.045802</td>\n",
       "      <td>-0.047576</td>\n",
       "    </tr>\n",
       "    <tr>\n",
       "      <td>day</td>\n",
       "      <td>-0.008866</td>\n",
       "      <td>0.026436</td>\n",
       "      <td>0.018659</td>\n",
       "      <td>0.011349</td>\n",
       "      <td>1.000000</td>\n",
       "      <td>0.101989</td>\n",
       "      <td>0.160417</td>\n",
       "      <td>-0.086856</td>\n",
       "      <td>-0.079935</td>\n",
       "      <td>-0.079728</td>\n",
       "      <td>-0.028348</td>\n",
       "      <td>0.007102</td>\n",
       "      <td>-0.007412</td>\n",
       "      <td>0.009424</td>\n",
       "      <td>-0.027982</td>\n",
       "      <td>0.011370</td>\n",
       "      <td>0.023652</td>\n",
       "      <td>-0.034103</td>\n",
       "    </tr>\n",
       "    <tr>\n",
       "      <td>month</td>\n",
       "      <td>0.093595</td>\n",
       "      <td>0.040237</td>\n",
       "      <td>0.061910</td>\n",
       "      <td>0.112403</td>\n",
       "      <td>0.101989</td>\n",
       "      <td>1.000000</td>\n",
       "      <td>0.059942</td>\n",
       "      <td>-0.086825</td>\n",
       "      <td>-0.048289</td>\n",
       "      <td>-0.045237</td>\n",
       "      <td>0.018717</td>\n",
       "      <td>0.062925</td>\n",
       "      <td>-0.068586</td>\n",
       "      <td>0.014989</td>\n",
       "      <td>-0.173887</td>\n",
       "      <td>0.021638</td>\n",
       "      <td>0.037628</td>\n",
       "      <td>-0.182490</td>\n",
       "    </tr>\n",
       "    <tr>\n",
       "      <td>campaign</td>\n",
       "      <td>0.022053</td>\n",
       "      <td>0.004267</td>\n",
       "      <td>0.003889</td>\n",
       "      <td>-0.023155</td>\n",
       "      <td>0.160417</td>\n",
       "      <td>0.059942</td>\n",
       "      <td>1.000000</td>\n",
       "      <td>-0.105458</td>\n",
       "      <td>-0.086830</td>\n",
       "      <td>-0.111229</td>\n",
       "      <td>-0.083463</td>\n",
       "      <td>0.044728</td>\n",
       "      <td>-0.037307</td>\n",
       "      <td>0.017202</td>\n",
       "      <td>-0.037839</td>\n",
       "      <td>0.004166</td>\n",
       "      <td>0.069289</td>\n",
       "      <td>-0.010100</td>\n",
       "    </tr>\n",
       "    <tr>\n",
       "      <td>pdays</td>\n",
       "      <td>-0.009454</td>\n",
       "      <td>-0.006564</td>\n",
       "      <td>0.018391</td>\n",
       "      <td>0.039024</td>\n",
       "      <td>-0.086856</td>\n",
       "      <td>-0.086825</td>\n",
       "      <td>-0.105458</td>\n",
       "      <td>1.000000</td>\n",
       "      <td>0.859795</td>\n",
       "      <td>0.885581</td>\n",
       "      <td>0.133966</td>\n",
       "      <td>-0.024627</td>\n",
       "      <td>0.026204</td>\n",
       "      <td>-0.035216</td>\n",
       "      <td>0.099279</td>\n",
       "      <td>-0.022866</td>\n",
       "      <td>0.019892</td>\n",
       "      <td>-0.278554</td>\n",
       "    </tr>\n",
       "    <tr>\n",
       "      <td>previous</td>\n",
       "      <td>0.004295</td>\n",
       "      <td>0.004906</td>\n",
       "      <td>0.033332</td>\n",
       "      <td>0.051255</td>\n",
       "      <td>-0.079935</td>\n",
       "      <td>-0.048289</td>\n",
       "      <td>-0.086830</td>\n",
       "      <td>0.859795</td>\n",
       "      <td>1.000000</td>\n",
       "      <td>0.869992</td>\n",
       "      <td>0.163192</td>\n",
       "      <td>-0.019773</td>\n",
       "      <td>0.024656</td>\n",
       "      <td>-0.036522</td>\n",
       "      <td>0.052550</td>\n",
       "      <td>-0.027723</td>\n",
       "      <td>0.028704</td>\n",
       "      <td>-0.264486</td>\n",
       "    </tr>\n",
       "    <tr>\n",
       "      <td>poutcome</td>\n",
       "      <td>0.004749</td>\n",
       "      <td>0.011379</td>\n",
       "      <td>0.035317</td>\n",
       "      <td>0.059843</td>\n",
       "      <td>-0.079728</td>\n",
       "      <td>-0.045237</td>\n",
       "      <td>-0.111229</td>\n",
       "      <td>0.885581</td>\n",
       "      <td>0.869992</td>\n",
       "      <td>1.000000</td>\n",
       "      <td>0.233024</td>\n",
       "      <td>-0.030772</td>\n",
       "      <td>0.036785</td>\n",
       "      <td>-0.039608</td>\n",
       "      <td>0.023012</td>\n",
       "      <td>-0.043037</td>\n",
       "      <td>0.025039</td>\n",
       "      <td>-0.276254</td>\n",
       "    </tr>\n",
       "    <tr>\n",
       "      <td>Target</td>\n",
       "      <td>0.019480</td>\n",
       "      <td>0.040417</td>\n",
       "      <td>0.041634</td>\n",
       "      <td>0.081336</td>\n",
       "      <td>-0.028348</td>\n",
       "      <td>0.018717</td>\n",
       "      <td>-0.083463</td>\n",
       "      <td>0.133966</td>\n",
       "      <td>0.163192</td>\n",
       "      <td>0.233024</td>\n",
       "      <td>1.000000</td>\n",
       "      <td>-0.060260</td>\n",
       "      <td>0.063526</td>\n",
       "      <td>-0.022419</td>\n",
       "      <td>-0.139173</td>\n",
       "      <td>-0.068185</td>\n",
       "      <td>0.014042</td>\n",
       "      <td>-0.150935</td>\n",
       "    </tr>\n",
       "    <tr>\n",
       "      <td>marital_married</td>\n",
       "      <td>0.290762</td>\n",
       "      <td>-0.098719</td>\n",
       "      <td>-0.110970</td>\n",
       "      <td>0.032926</td>\n",
       "      <td>0.007102</td>\n",
       "      <td>0.062925</td>\n",
       "      <td>0.044728</td>\n",
       "      <td>-0.024627</td>\n",
       "      <td>-0.019773</td>\n",
       "      <td>-0.030772</td>\n",
       "      <td>-0.060260</td>\n",
       "      <td>1.000000</td>\n",
       "      <td>-0.772357</td>\n",
       "      <td>-0.014460</td>\n",
       "      <td>0.017681</td>\n",
       "      <td>0.036906</td>\n",
       "      <td>0.048970</td>\n",
       "      <td>0.019342</td>\n",
       "    </tr>\n",
       "    <tr>\n",
       "      <td>marital_single</td>\n",
       "      <td>-0.432856</td>\n",
       "      <td>0.095339</td>\n",
       "      <td>0.114576</td>\n",
       "      <td>-0.013432</td>\n",
       "      <td>-0.007412</td>\n",
       "      <td>-0.068586</td>\n",
       "      <td>-0.037307</td>\n",
       "      <td>0.026204</td>\n",
       "      <td>0.024656</td>\n",
       "      <td>0.036785</td>\n",
       "      <td>0.063526</td>\n",
       "      <td>-0.772357</td>\n",
       "      <td>1.000000</td>\n",
       "      <td>0.003115</td>\n",
       "      <td>-0.020475</td>\n",
       "      <td>-0.051716</td>\n",
       "      <td>-0.040468</td>\n",
       "      <td>-0.033001</td>\n",
       "    </tr>\n",
       "    <tr>\n",
       "      <td>default_yes</td>\n",
       "      <td>-0.017422</td>\n",
       "      <td>-0.004753</td>\n",
       "      <td>-0.007522</td>\n",
       "      <td>-0.104798</td>\n",
       "      <td>0.009424</td>\n",
       "      <td>0.014989</td>\n",
       "      <td>0.017202</td>\n",
       "      <td>-0.035216</td>\n",
       "      <td>-0.036522</td>\n",
       "      <td>-0.039608</td>\n",
       "      <td>-0.022419</td>\n",
       "      <td>-0.014460</td>\n",
       "      <td>0.003115</td>\n",
       "      <td>1.000000</td>\n",
       "      <td>-0.006025</td>\n",
       "      <td>0.077234</td>\n",
       "      <td>-0.017208</td>\n",
       "      <td>0.019933</td>\n",
       "    </tr>\n",
       "    <tr>\n",
       "      <td>housing_yes</td>\n",
       "      <td>-0.182671</td>\n",
       "      <td>-0.101812</td>\n",
       "      <td>-0.022908</td>\n",
       "      <td>-0.077378</td>\n",
       "      <td>-0.027982</td>\n",
       "      <td>-0.173887</td>\n",
       "      <td>-0.037839</td>\n",
       "      <td>0.099279</td>\n",
       "      <td>0.052550</td>\n",
       "      <td>0.023012</td>\n",
       "      <td>-0.139173</td>\n",
       "      <td>0.017681</td>\n",
       "      <td>-0.020475</td>\n",
       "      <td>-0.006025</td>\n",
       "      <td>1.000000</td>\n",
       "      <td>0.041323</td>\n",
       "      <td>-0.080822</td>\n",
       "      <td>0.208409</td>\n",
       "    </tr>\n",
       "    <tr>\n",
       "      <td>loan_yes</td>\n",
       "      <td>-0.013352</td>\n",
       "      <td>-0.022945</td>\n",
       "      <td>0.014705</td>\n",
       "      <td>-0.112464</td>\n",
       "      <td>0.011370</td>\n",
       "      <td>0.021638</td>\n",
       "      <td>0.004166</td>\n",
       "      <td>-0.022866</td>\n",
       "      <td>-0.027723</td>\n",
       "      <td>-0.043037</td>\n",
       "      <td>-0.068185</td>\n",
       "      <td>0.036906</td>\n",
       "      <td>-0.051716</td>\n",
       "      <td>0.077234</td>\n",
       "      <td>0.041323</td>\n",
       "      <td>1.000000</td>\n",
       "      <td>-0.013183</td>\n",
       "      <td>-0.007211</td>\n",
       "    </tr>\n",
       "    <tr>\n",
       "      <td>contact_telephone</td>\n",
       "      <td>0.161656</td>\n",
       "      <td>-0.012440</td>\n",
       "      <td>-0.071879</td>\n",
       "      <td>0.045802</td>\n",
       "      <td>0.023652</td>\n",
       "      <td>0.037628</td>\n",
       "      <td>0.069289</td>\n",
       "      <td>0.019892</td>\n",
       "      <td>0.028704</td>\n",
       "      <td>0.025039</td>\n",
       "      <td>0.014042</td>\n",
       "      <td>0.048970</td>\n",
       "      <td>-0.040468</td>\n",
       "      <td>-0.017208</td>\n",
       "      <td>-0.080822</td>\n",
       "      <td>-0.013183</td>\n",
       "      <td>1.000000</td>\n",
       "      <td>-0.166683</td>\n",
       "    </tr>\n",
       "    <tr>\n",
       "      <td>contact_unknown</td>\n",
       "      <td>-0.016708</td>\n",
       "      <td>-0.086248</td>\n",
       "      <td>-0.119689</td>\n",
       "      <td>-0.047576</td>\n",
       "      <td>-0.034103</td>\n",
       "      <td>-0.182490</td>\n",
       "      <td>-0.010100</td>\n",
       "      <td>-0.278554</td>\n",
       "      <td>-0.264486</td>\n",
       "      <td>-0.276254</td>\n",
       "      <td>-0.150935</td>\n",
       "      <td>0.019342</td>\n",
       "      <td>-0.033001</td>\n",
       "      <td>0.019933</td>\n",
       "      <td>0.208409</td>\n",
       "      <td>-0.007211</td>\n",
       "      <td>-0.166683</td>\n",
       "      <td>1.000000</td>\n",
       "    </tr>\n",
       "  </tbody>\n",
       "</table>\n",
       "</div>"
      ],
      "text/plain": [
       "                        age       job  education   balance       day  \\\n",
       "age                1.000000 -0.039507  -0.163148  0.116642 -0.008866   \n",
       "job               -0.039507  1.000000   0.151021  0.020643  0.026436   \n",
       "education         -0.163148  0.151021   1.000000  0.037739  0.018659   \n",
       "balance            0.116642  0.020643   0.037739  1.000000  0.011349   \n",
       "day               -0.008866  0.026436   0.018659  0.011349  1.000000   \n",
       "month              0.093595  0.040237   0.061910  0.112403  0.101989   \n",
       "campaign           0.022053  0.004267   0.003889 -0.023155  0.160417   \n",
       "pdays             -0.009454 -0.006564   0.018391  0.039024 -0.086856   \n",
       "previous           0.004295  0.004906   0.033332  0.051255 -0.079935   \n",
       "poutcome           0.004749  0.011379   0.035317  0.059843 -0.079728   \n",
       "Target             0.019480  0.040417   0.041634  0.081336 -0.028348   \n",
       "marital_married    0.290762 -0.098719  -0.110970  0.032926  0.007102   \n",
       "marital_single    -0.432856  0.095339   0.114576 -0.013432 -0.007412   \n",
       "default_yes       -0.017422 -0.004753  -0.007522 -0.104798  0.009424   \n",
       "housing_yes       -0.182671 -0.101812  -0.022908 -0.077378 -0.027982   \n",
       "loan_yes          -0.013352 -0.022945   0.014705 -0.112464  0.011370   \n",
       "contact_telephone  0.161656 -0.012440  -0.071879  0.045802  0.023652   \n",
       "contact_unknown   -0.016708 -0.086248  -0.119689 -0.047576 -0.034103   \n",
       "\n",
       "                      month  campaign     pdays  previous  poutcome    Target  \\\n",
       "age                0.093595  0.022053 -0.009454  0.004295  0.004749  0.019480   \n",
       "job                0.040237  0.004267 -0.006564  0.004906  0.011379  0.040417   \n",
       "education          0.061910  0.003889  0.018391  0.033332  0.035317  0.041634   \n",
       "balance            0.112403 -0.023155  0.039024  0.051255  0.059843  0.081336   \n",
       "day                0.101989  0.160417 -0.086856 -0.079935 -0.079728 -0.028348   \n",
       "month              1.000000  0.059942 -0.086825 -0.048289 -0.045237  0.018717   \n",
       "campaign           0.059942  1.000000 -0.105458 -0.086830 -0.111229 -0.083463   \n",
       "pdays             -0.086825 -0.105458  1.000000  0.859795  0.885581  0.133966   \n",
       "previous          -0.048289 -0.086830  0.859795  1.000000  0.869992  0.163192   \n",
       "poutcome          -0.045237 -0.111229  0.885581  0.869992  1.000000  0.233024   \n",
       "Target             0.018717 -0.083463  0.133966  0.163192  0.233024  1.000000   \n",
       "marital_married    0.062925  0.044728 -0.024627 -0.019773 -0.030772 -0.060260   \n",
       "marital_single    -0.068586 -0.037307  0.026204  0.024656  0.036785  0.063526   \n",
       "default_yes        0.014989  0.017202 -0.035216 -0.036522 -0.039608 -0.022419   \n",
       "housing_yes       -0.173887 -0.037839  0.099279  0.052550  0.023012 -0.139173   \n",
       "loan_yes           0.021638  0.004166 -0.022866 -0.027723 -0.043037 -0.068185   \n",
       "contact_telephone  0.037628  0.069289  0.019892  0.028704  0.025039  0.014042   \n",
       "contact_unknown   -0.182490 -0.010100 -0.278554 -0.264486 -0.276254 -0.150935   \n",
       "\n",
       "                   marital_married  marital_single  default_yes  housing_yes  \\\n",
       "age                       0.290762       -0.432856    -0.017422    -0.182671   \n",
       "job                      -0.098719        0.095339    -0.004753    -0.101812   \n",
       "education                -0.110970        0.114576    -0.007522    -0.022908   \n",
       "balance                   0.032926       -0.013432    -0.104798    -0.077378   \n",
       "day                       0.007102       -0.007412     0.009424    -0.027982   \n",
       "month                     0.062925       -0.068586     0.014989    -0.173887   \n",
       "campaign                  0.044728       -0.037307     0.017202    -0.037839   \n",
       "pdays                    -0.024627        0.026204    -0.035216     0.099279   \n",
       "previous                 -0.019773        0.024656    -0.036522     0.052550   \n",
       "poutcome                 -0.030772        0.036785    -0.039608     0.023012   \n",
       "Target                   -0.060260        0.063526    -0.022419    -0.139173   \n",
       "marital_married           1.000000       -0.772357    -0.014460     0.017681   \n",
       "marital_single           -0.772357        1.000000     0.003115    -0.020475   \n",
       "default_yes              -0.014460        0.003115     1.000000    -0.006025   \n",
       "housing_yes               0.017681       -0.020475    -0.006025     1.000000   \n",
       "loan_yes                  0.036906       -0.051716     0.077234     0.041323   \n",
       "contact_telephone         0.048970       -0.040468    -0.017208    -0.080822   \n",
       "contact_unknown           0.019342       -0.033001     0.019933     0.208409   \n",
       "\n",
       "                   loan_yes  contact_telephone  contact_unknown  \n",
       "age               -0.013352           0.161656        -0.016708  \n",
       "job               -0.022945          -0.012440        -0.086248  \n",
       "education          0.014705          -0.071879        -0.119689  \n",
       "balance           -0.112464           0.045802        -0.047576  \n",
       "day                0.011370           0.023652        -0.034103  \n",
       "month              0.021638           0.037628        -0.182490  \n",
       "campaign           0.004166           0.069289        -0.010100  \n",
       "pdays             -0.022866           0.019892        -0.278554  \n",
       "previous          -0.027723           0.028704        -0.264486  \n",
       "poutcome          -0.043037           0.025039        -0.276254  \n",
       "Target            -0.068185           0.014042        -0.150935  \n",
       "marital_married    0.036906           0.048970         0.019342  \n",
       "marital_single    -0.051716          -0.040468        -0.033001  \n",
       "default_yes        0.077234          -0.017208         0.019933  \n",
       "housing_yes        0.041323          -0.080822         0.208409  \n",
       "loan_yes           1.000000          -0.013183        -0.007211  \n",
       "contact_telephone -0.013183           1.000000        -0.166683  \n",
       "contact_unknown   -0.007211          -0.166683         1.000000  "
      ]
     },
     "execution_count": 37,
     "metadata": {},
     "output_type": "execute_result"
    }
   ],
   "source": [
    "BankData.corr()"
   ]
  },
  {
   "cell_type": "code",
   "execution_count": 38,
   "metadata": {},
   "outputs": [
    {
     "data": {
      "image/png": "[encoded data removed]",
      "text/plain": [
       "<Figure size 1440x720 with 2 Axes>"
      ]
     },
     "metadata": {
      "needs_background": "light"
     },
     "output_type": "display_data"
    }
   ],
   "source": [
    "plt.figure(figsize = (20,10))\n",
    "sns.heatmap(BankData.corr(),annot = True)\n",
    "plt.show()"
   ]
  },
  {
   "cell_type": "markdown",
   "metadata": {},
   "source": [
    "Before spliting of data the above heatmap and table shows how well the features are related to each other after label encoding is done for them.\n",
    "- poutcome has the highest correlation with the Target followed by previous\n",
    "- contact telephone has the least correlation with the Target"
   ]
  },
  {
   "cell_type": "markdown",
   "metadata": {},
   "source": [
    "### Train-Test Split"
   ]
  },
  {
   "cell_type": "code",
   "execution_count": 39,
   "metadata": {},
   "outputs": [
    {
     "name": "stdout",
     "output_type": "stream",
     "text": [
      "0    0\n",
      "1    0\n",
      "2    0\n",
      "3    0\n",
      "4    0\n",
      "Name: Target, dtype: int64\n"
     ]
    },
    {
     "data": {
      "text/html": [
       "<div>\n",
       "<style scoped>\n",
       "    .dataframe tbody tr th:only-of-type {\n",
       "        vertical-align: middle;\n",
       "    }\n",
       "\n",
       "    .dataframe tbody tr th {\n",
       "        vertical-align: top;\n",
       "    }\n",
       "\n",
       "    .dataframe thead th {\n",
       "        text-align: right;\n",
       "    }\n",
       "</style>\n",
       "<table border=\"1\" class=\"dataframe\">\n",
       "  <thead>\n",
       "    <tr style=\"text-align: right;\">\n",
       "      <th></th>\n",
       "      <th>age</th>\n",
       "      <th>job</th>\n",
       "      <th>education</th>\n",
       "      <th>balance</th>\n",
       "      <th>day</th>\n",
       "      <th>month</th>\n",
       "      <th>campaign</th>\n",
       "      <th>pdays</th>\n",
       "      <th>previous</th>\n",
       "      <th>poutcome</th>\n",
       "      <th>marital_married</th>\n",
       "      <th>marital_single</th>\n",
       "      <th>default_yes</th>\n",
       "      <th>housing_yes</th>\n",
       "      <th>loan_yes</th>\n",
       "      <th>contact_telephone</th>\n",
       "      <th>contact_unknown</th>\n",
       "    </tr>\n",
       "  </thead>\n",
       "  <tbody>\n",
       "    <tr>\n",
       "      <td>0</td>\n",
       "      <td>58</td>\n",
       "      <td>5</td>\n",
       "      <td>3</td>\n",
       "      <td>2143</td>\n",
       "      <td>5</td>\n",
       "      <td>5</td>\n",
       "      <td>1</td>\n",
       "      <td>-1</td>\n",
       "      <td>0</td>\n",
       "      <td>-1</td>\n",
       "      <td>1</td>\n",
       "      <td>0</td>\n",
       "      <td>0</td>\n",
       "      <td>1</td>\n",
       "      <td>0</td>\n",
       "      <td>0</td>\n",
       "      <td>1</td>\n",
       "    </tr>\n",
       "    <tr>\n",
       "      <td>1</td>\n",
       "      <td>44</td>\n",
       "      <td>10</td>\n",
       "      <td>2</td>\n",
       "      <td>29</td>\n",
       "      <td>5</td>\n",
       "      <td>5</td>\n",
       "      <td>1</td>\n",
       "      <td>-1</td>\n",
       "      <td>0</td>\n",
       "      <td>-1</td>\n",
       "      <td>0</td>\n",
       "      <td>1</td>\n",
       "      <td>0</td>\n",
       "      <td>1</td>\n",
       "      <td>0</td>\n",
       "      <td>0</td>\n",
       "      <td>1</td>\n",
       "    </tr>\n",
       "    <tr>\n",
       "      <td>2</td>\n",
       "      <td>33</td>\n",
       "      <td>3</td>\n",
       "      <td>2</td>\n",
       "      <td>2</td>\n",
       "      <td>5</td>\n",
       "      <td>5</td>\n",
       "      <td>1</td>\n",
       "      <td>-1</td>\n",
       "      <td>0</td>\n",
       "      <td>-1</td>\n",
       "      <td>1</td>\n",
       "      <td>0</td>\n",
       "      <td>0</td>\n",
       "      <td>1</td>\n",
       "      <td>1</td>\n",
       "      <td>0</td>\n",
       "      <td>1</td>\n",
       "    </tr>\n",
       "    <tr>\n",
       "      <td>3</td>\n",
       "      <td>47</td>\n",
       "      <td>2</td>\n",
       "      <td>-1</td>\n",
       "      <td>1506</td>\n",
       "      <td>5</td>\n",
       "      <td>5</td>\n",
       "      <td>1</td>\n",
       "      <td>-1</td>\n",
       "      <td>0</td>\n",
       "      <td>-1</td>\n",
       "      <td>1</td>\n",
       "      <td>0</td>\n",
       "      <td>0</td>\n",
       "      <td>1</td>\n",
       "      <td>0</td>\n",
       "      <td>0</td>\n",
       "      <td>1</td>\n",
       "    </tr>\n",
       "    <tr>\n",
       "      <td>4</td>\n",
       "      <td>33</td>\n",
       "      <td>-1</td>\n",
       "      <td>-1</td>\n",
       "      <td>1</td>\n",
       "      <td>5</td>\n",
       "      <td>5</td>\n",
       "      <td>1</td>\n",
       "      <td>-1</td>\n",
       "      <td>0</td>\n",
       "      <td>-1</td>\n",
       "      <td>0</td>\n",
       "      <td>1</td>\n",
       "      <td>0</td>\n",
       "      <td>0</td>\n",
       "      <td>0</td>\n",
       "      <td>0</td>\n",
       "      <td>1</td>\n",
       "    </tr>\n",
       "  </tbody>\n",
       "</table>\n",
       "</div>"
      ],
      "text/plain": [
       "   age  job  education  balance  day  month  campaign  pdays  previous  \\\n",
       "0   58    5          3     2143    5      5         1     -1         0   \n",
       "1   44   10          2       29    5      5         1     -1         0   \n",
       "2   33    3          2        2    5      5         1     -1         0   \n",
       "3   47    2         -1     1506    5      5         1     -1         0   \n",
       "4   33   -1         -1        1    5      5         1     -1         0   \n",
       "\n",
       "   poutcome  marital_married  marital_single  default_yes  housing_yes  \\\n",
       "0        -1                1               0            0            1   \n",
       "1        -1                0               1            0            1   \n",
       "2        -1                1               0            0            1   \n",
       "3        -1                1               0            0            1   \n",
       "4        -1                0               1            0            0   \n",
       "\n",
       "   loan_yes  contact_telephone  contact_unknown  \n",
       "0         0                  0                1  \n",
       "1         0                  0                1  \n",
       "2         1                  0                1  \n",
       "3         0                  0                1  \n",
       "4         0                  0                1  "
      ]
     },
     "execution_count": 39,
     "metadata": {},
     "output_type": "execute_result"
    }
   ],
   "source": [
    "X = BankData.drop(\"Target\",axis = 1)\n",
    "y = BankData.pop(\"Target\")\n",
    "\n",
    "print(y.head())\n",
    "X.head()"
   ]
  },
  {
   "cell_type": "code",
   "execution_count": 40,
   "metadata": {},
   "outputs": [
    {
     "name": "stdout",
     "output_type": "stream",
     "text": [
      "shape of the training data\n",
      "(31647, 17)\n",
      "shape of the testing data\n",
      "(13564, 17)\n",
      "<============================================>\n",
      "distribution of 1 and 0 in train set for the target variable\n",
      "0    27957\n",
      "1     3690\n",
      "Name: Target, dtype: int64\n",
      "distribution of 1 and 0 in test set for the target variable\n",
      "0    11965\n",
      "1     1599\n",
      "Name: Target, dtype: int64\n"
     ]
    }
   ],
   "source": [
    "X_train,X_test,y_train,y_test = train_test_split(X,y,test_size=.30,random_state = 5)\n",
    "print(\"shape of the training data\")\n",
    "print(X_train.shape)\n",
    "print(\"shape of the testing data\")\n",
    "print(X_test.shape)\n",
    "print(\"<============================================>\")\n",
    "print(\"distribution of 1 and 0 in train set for the target variable\")\n",
    "print(y_train.value_counts())\n",
    "print(\"distribution of 1 and 0 in test set for the target variable\")\n",
    "print(y_test.value_counts())"
   ]
  },
  {
   "cell_type": "markdown",
   "metadata": {},
   "source": [
    "The outcome of these targets are not evenly distributed and 0 has most number of values and its almost 85 percent on both of the Train and Test set"
   ]
  },
  {
   "cell_type": "markdown",
   "metadata": {},
   "source": [
    "## 5. Standard Classification Algorithms\n",
    "### a. Logistic Regression Classifier"
   ]
  },
  {
   "cell_type": "code",
   "execution_count": 41,
   "metadata": {},
   "outputs": [
    {
     "name": "stdout",
     "output_type": "stream",
     "text": [
      "Logistic Regression Model Train Accuracy: 0.8890\n",
      "Logistic Regression Model Test Accuracy : 0.8882\n",
      "<====================================================>\n",
      "              precision    recall  f1-score   support\n",
      "\n",
      "           0       0.90      0.99      0.94     11965\n",
      "           1       0.62      0.13      0.22      1599\n",
      "\n",
      "    accuracy                           0.89     13564\n",
      "   macro avg       0.76      0.56      0.58     13564\n",
      "weighted avg       0.86      0.89      0.86     13564\n",
      "\n"
     ]
    }
   ],
   "source": [
    "LR = LogisticRegression()\n",
    "LR = LR.fit(X_train,y_train)\n",
    "\n",
    "# The accuracy score of both train and test data\n",
    "print(\"Logistic Regression Model Train Accuracy: {0:.4f}\".format(LR.score(X_train,y_train)))\n",
    "print(\"Logistic Regression Model Test Accuracy : {0:.4f}\".format(LR.score(X_test,y_test)))\n",
    "print(\"<====================================================>\")\n",
    "\n",
    "# Classification report of Linear model\n",
    "LR_predicted = LR.predict(X_test)\n",
    "print(metrics.classification_report(y_test,LR_predicted))"
   ]
  },
  {
   "cell_type": "code",
   "execution_count": 42,
   "metadata": {},
   "outputs": [
    {
     "data": {
      "image/png": "[encoded data removed]",
      "text/plain": [
       "<Figure size 504x360 with 2 Axes>"
      ]
     },
     "metadata": {
      "needs_background": "light"
     },
     "output_type": "display_data"
    },
    {
     "name": "stdout",
     "output_type": "stream",
     "text": [
      "Confusion Matrix for Logistic Regression\n",
      "[[  215  1384]\n",
      " [  133 11832]]\n"
     ]
    }
   ],
   "source": [
    "LR_CM = metrics.confusion_matrix(y_test,LR_predicted,labels=[1,0])\n",
    "cm = pd.DataFrame(LR_CM,index = (i for i in [\"1\",\"0\"]),\n",
    "                     columns = (i for i in [\"predict 1\", \"Predict 0\"]))\n",
    "\n",
    "plt.figure(figsize = (7,5))\n",
    "sns.heatmap(cm,annot=True)\n",
    "plt.show()\n",
    "\n",
    "print(\"Confusion Matrix for Logistic Regression\" )\n",
    "print(LR_CM)"
   ]
  },
  {
   "cell_type": "code",
   "execution_count": 43,
   "metadata": {},
   "outputs": [
    {
     "name": "stdout",
     "output_type": "stream",
     "text": [
      "0.744889187166969\n"
     ]
    },
    {
     "data": {
      "image/png": "[encoded data removed]",
      "text/plain": [
       "<Figure size 432x288 with 1 Axes>"
      ]
     },
     "metadata": {
      "needs_background": "light"
     },
     "output_type": "display_data"
    }
   ],
   "source": [
    "LR_ROC_AUC = roc_auc_score(y_test,LR.predict_proba(X_test)[:,1])\n",
    "fpr_LR,tpr_LR, threshold_LR = roc_curve(y_test,LR.predict_proba(X_test)[:,1])\n",
    "print(LR_ROC_AUC)\n",
    "\n",
    "plt.figure()\n",
    "plt.plot(fpr_LR,tpr_LR,label = \"Logistic Regressor (area = %0.2f)\" % LR_ROC_AUC)\n",
    "plt.plot([0,1],[0,1],'k--')\n",
    "plt.xlim([0.0,1.0])\n",
    "plt.ylim([0.0,1.0])\n",
    "plt.legend(loc= \"lower right\")\n",
    "plt.xlabel(\"False Positive Rate\")\n",
    "plt.ylabel(\"True Possitive rage\")\n",
    "plt.show()"
   ]
  },
  {
   "cell_type": "markdown",
   "metadata": {},
   "source": [
    "### b. KNN classifier"
   ]
  },
  {
   "cell_type": "code",
   "execution_count": 44,
   "metadata": {},
   "outputs": [
    {
     "name": "stdout",
     "output_type": "stream",
     "text": [
      "KNN model Train Accuracy: 1.0000\n",
      "KNN model Test Accuracy: 0.8837\n",
      "<====================================================>\n",
      "              precision    recall  f1-score   support\n",
      "\n",
      "           0       0.89      0.99      0.94     11965\n",
      "           1       0.54      0.08      0.14      1599\n",
      "\n",
      "    accuracy                           0.88     13564\n",
      "   macro avg       0.72      0.54      0.54     13564\n",
      "weighted avg       0.85      0.88      0.84     13564\n",
      "\n"
     ]
    }
   ],
   "source": [
    "# for neighbors = 5 the model accuracy is 1 and it seems to overfit so i am trying neighbors = 10\n",
    "KNN = KNeighborsClassifier(n_neighbors = 10 ,weights = 'distance')\n",
    "KNN = KNN.fit(X_train,y_train)\n",
    "\n",
    "#The accuracy for both train and test KNN model\n",
    "print(\"KNN model Train Accuracy: {0:.4f}\".format(KNN.score(X_train,y_train)))\n",
    "print(\"KNN model Test Accuracy: {0:.4f}\".format(KNN.score(X_test,y_test)))\n",
    "print(\"<====================================================>\")\n",
    "\n",
    "KNN_predicted = KNN.predict(X_test)\n",
    "print(metrics.classification_report(y_test,KNN_predicted))"
   ]
  },
  {
   "cell_type": "code",
   "execution_count": 45,
   "metadata": {},
   "outputs": [
    {
     "data": {
      "image/png": "[encoded data removed]",
      "text/plain": [
       "<Figure size 504x360 with 2 Axes>"
      ]
     },
     "metadata": {
      "needs_background": "light"
     },
     "output_type": "display_data"
    },
    {
     "name": "stdout",
     "output_type": "stream",
     "text": [
      "Confusion Matrix for KNN Model\n",
      "[[  132  1467]\n",
      " [  111 11854]]\n"
     ]
    }
   ],
   "source": [
    "KNN_CM = metrics.confusion_matrix(y_test,KNN_predicted,labels=[1,0])\n",
    "cm = pd.DataFrame(KNN_CM,index = (i for i in [\"1\",\"0\"]),\n",
    "                     columns = (i for i in [\"predict 1\", \"Predict 0\"]))\n",
    "\n",
    "plt.figure(figsize = (7,5))\n",
    "sns.heatmap(cm,annot=True)\n",
    "plt.show()\n",
    "print(\"Confusion Matrix for KNN Model\")\n",
    "print(KNN_CM)"
   ]
  },
  {
   "cell_type": "code",
   "execution_count": 46,
   "metadata": {},
   "outputs": [
    {
     "name": "stdout",
     "output_type": "stream",
     "text": [
      "0.6364010414992446\n"
     ]
    },
    {
     "data": {
      "image/png": "[encoded data removed]",
      "text/plain": [
       "<Figure size 432x288 with 1 Axes>"
      ]
     },
     "metadata": {
      "needs_background": "light"
     },
     "output_type": "display_data"
    }
   ],
   "source": [
    "KNN_ROC_AUC = roc_auc_score(y_test,KNN.predict_proba(X_test)[:,1])\n",
    "fpr_KNN,tpr_KNN, threshold_KNN = roc_curve(y_test,KNN.predict_proba(X_test)[:,1])\n",
    "print(KNN_ROC_AUC)\n",
    "\n",
    "plt.figure()\n",
    "plt.plot(fpr_KNN,tpr_KNN,label = \"KNN (area = %0.2f)\" % KNN_ROC_AUC)\n",
    "plt.plot([0,1],[0,1],'k--')\n",
    "plt.xlim([0.0,1.0])\n",
    "plt.ylim([0.0,1.0])\n",
    "plt.legend(loc= \"lower right\")\n",
    "plt.xlabel(\"False Positive Rate\")\n",
    "plt.ylabel(\"True Possitive rage\")\n",
    "plt.show()"
   ]
  },
  {
   "cell_type": "markdown",
   "metadata": {},
   "source": [
    "### c. Naive Bayess Classifier"
   ]
  },
  {
   "cell_type": "code",
   "execution_count": 47,
   "metadata": {},
   "outputs": [
    {
     "name": "stdout",
     "output_type": "stream",
     "text": [
      "Naive Bayes model Train Accuracy: 0.7913\n",
      "Naive Bayes model Test Accuracy: 0.7901\n",
      "<====================================================>\n",
      "              precision    recall  f1-score   support\n",
      "\n",
      "           0       0.91      0.84      0.88     11965\n",
      "           1       0.25      0.39      0.30      1599\n",
      "\n",
      "    accuracy                           0.79     13564\n",
      "   macro avg       0.58      0.62      0.59     13564\n",
      "weighted avg       0.83      0.79      0.81     13564\n",
      "\n"
     ]
    }
   ],
   "source": [
    "NaiveBayes_model = GaussianNB()\n",
    "NaiveBayes_model.fit(X_train,y_train)\n",
    "\n",
    "# Accuracy score of train and test model of Naive bayes model\n",
    "print(\"Naive Bayes model Train Accuracy: {0:.4f}\".format(NaiveBayes_model.score(X_train,y_train)))\n",
    "print(\"Naive Bayes model Test Accuracy: {0:.4f}\".format(NaiveBayes_model.score(X_test,y_test)))\n",
    "print(\"<====================================================>\")\n",
    "\n",
    "NB_test_predict = NaiveBayes_model.predict(X_test)\n",
    "print(metrics.classification_report(y_test,NB_test_predict))"
   ]
  },
  {
   "cell_type": "code",
   "execution_count": 48,
   "metadata": {},
   "outputs": [
    {
     "data": {
      "image/png": "[encoded data removed]",
      "text/plain": [
       "<Figure size 504x360 with 2 Axes>"
      ]
     },
     "metadata": {
      "needs_background": "light"
     },
     "output_type": "display_data"
    },
    {
     "name": "stdout",
     "output_type": "stream",
     "text": [
      "Confusion Matrix for Naive Bayes Model\n",
      "[[  624   975]\n",
      " [ 1872 10093]]\n"
     ]
    }
   ],
   "source": [
    "NB_CM = metrics.confusion_matrix(y_test,NB_test_predict,labels=[1,0])\n",
    "cm = pd.DataFrame(NB_CM,index = (i for i in [\"1\",\"0\"]),\n",
    "                     columns = (i for i in [\"predict 1\", \"Predict 0\"]))\n",
    "\n",
    "plt.figure(figsize = (7,5))\n",
    "sns.heatmap(cm,annot=True)\n",
    "plt.show()\n",
    "print(\"Confusion Matrix for Naive Bayes Model\")\n",
    "print(NB_CM)"
   ]
  },
  {
   "cell_type": "code",
   "execution_count": 49,
   "metadata": {},
   "outputs": [
    {
     "name": "stdout",
     "output_type": "stream",
     "text": [
      "0.7257376959638637\n"
     ]
    },
    {
     "data": {
      "image/png": "[encoded data removed]",
      "text/plain": [
       "<Figure size 432x288 with 1 Axes>"
      ]
     },
     "metadata": {
      "needs_background": "light"
     },
     "output_type": "display_data"
    }
   ],
   "source": [
    "NB_ROC_AUC = roc_auc_score(y_test,NaiveBayes_model.predict_proba(X_test)[:,1])\n",
    "fpr_NB,tpr_NB, threshold_NB = roc_curve(y_test,NaiveBayes_model.predict_proba(X_test)[:,1])\n",
    "print(NB_ROC_AUC)\n",
    "\n",
    "plt.figure()\n",
    "plt.plot(fpr_NB,tpr_NB,label = \"Naive Bayes (area = %0.2f)\" % NB_ROC_AUC)\n",
    "plt.plot([0,1],[0,1],'k--')\n",
    "plt.xlim([0.0,1.0])\n",
    "plt.ylim([0.0,1.0])\n",
    "plt.legend(loc= \"lower right\")\n",
    "plt.xlabel(\"False Positive Rate\")\n",
    "plt.ylabel(\"True Possitive rage\")\n",
    "plt.show()"
   ]
  },
  {
   "cell_type": "code",
   "execution_count": 50,
   "metadata": {},
   "outputs": [
    {
     "data": {
      "image/png": "[encoded data removed]",
      "text/plain": [
       "<Figure size 432x288 with 1 Axes>"
      ]
     },
     "metadata": {
      "needs_background": "light"
     },
     "output_type": "display_data"
    }
   ],
   "source": [
    "# Lets see all the curves in a single graph\n",
    "plt.figure()\n",
    "plt.plot(fpr_LR,tpr_LR,label = \"Logistic Regressor (area = %0.2f)\" % LR_ROC_AUC)\n",
    "plt.plot(fpr_KNN,tpr_KNN,label = \"KNN (area = %0.2f)\" % KNN_ROC_AUC)\n",
    "plt.plot(fpr_NB,tpr_NB,label = \"Naive Bayes (area = %0.2f)\" % NB_ROC_AUC)\n",
    "plt.plot([0,1],[0,1],'k--')\n",
    "plt.xlim([0.0,1.0])\n",
    "plt.ylim([0.0,1.0])\n",
    "plt.legend(loc= \"lower right\")\n",
    "plt.xlabel(\"False Positive Rate\")\n",
    "plt.ylabel(\"True Possitive rage\")\n",
    "plt.show()"
   ]
  },
  {
   "cell_type": "markdown",
   "metadata": {},
   "source": [
    "### d. SVC"
   ]
  },
  {
   "cell_type": "code",
   "execution_count": 51,
   "metadata": {},
   "outputs": [
    {
     "name": "stdout",
     "output_type": "stream",
     "text": [
      "SVC model Train Accuracy: 0.9721\n",
      "SVC model Test Accuracy: 0.8820\n",
      "<====================================================>\n",
      "              precision    recall  f1-score   support\n",
      "\n",
      "           0       0.88      1.00      0.94     11965\n",
      "           1       0.40      0.00      0.00      1599\n",
      "\n",
      "    accuracy                           0.88     13564\n",
      "   macro avg       0.64      0.50      0.47     13564\n",
      "weighted avg       0.83      0.88      0.83     13564\n",
      "\n"
     ]
    }
   ],
   "source": [
    "SVC_model = SVC()\n",
    "SVC_model = SVC_model.fit(X_train,y_train)\n",
    "\n",
    "# Accuracy score of train and test model of SVC model\n",
    "print(\"SVC model Train Accuracy: {0:.4f}\".format(SVC_model.score(X_train,y_train)))\n",
    "print(\"SVC model Test Accuracy: {0:.4f}\".format(SVC_model.score(X_test,y_test)))\n",
    "print(\"<====================================================>\")\n",
    "\n",
    "SVC_test_predict = SVC_model.predict(X_test)\n",
    "print(metrics.classification_report(y_test,SVC_test_predict))"
   ]
  },
  {
   "cell_type": "code",
   "execution_count": 52,
   "metadata": {},
   "outputs": [
    {
     "data": {
      "image/png": "[encoded data removed]",
      "text/plain": [
       "<Figure size 504x360 with 2 Axes>"
      ]
     },
     "metadata": {
      "needs_background": "light"
     },
     "output_type": "display_data"
    },
    {
     "name": "stdout",
     "output_type": "stream",
     "text": [
      "Confusion Matrix for SVC Model\n",
      "[[    4  1595]\n",
      " [    6 11959]]\n"
     ]
    }
   ],
   "source": [
    "SVC_CM = metrics.confusion_matrix(y_test,SVC_test_predict,labels=[1,0])\n",
    "cm = pd.DataFrame(SVC_CM,index = (i for i in [\"1\",\"0\"]),\n",
    "                     columns = (i for i in [\"predict 1\", \"Predict 0\"]))\n",
    "\n",
    "plt.figure(figsize = (7,5))\n",
    "sns.heatmap(cm,annot=True)\n",
    "plt.show()\n",
    "print(\"Confusion Matrix for SVC Model\")\n",
    "print(SVC_CM)"
   ]
  },
  {
   "cell_type": "markdown",
   "metadata": {},
   "source": [
    "### e.Decision Tree Classifier"
   ]
  },
  {
   "cell_type": "code",
   "execution_count": 53,
   "metadata": {},
   "outputs": [
    {
     "name": "stdout",
     "output_type": "stream",
     "text": [
      "DT model Train Accuracy: 1.0000\n",
      "DT model Test Accuracy: 0.8361\n",
      "<====================================================>\n",
      "              precision    recall  f1-score   support\n",
      "\n",
      "           0       0.91      0.90      0.91     11965\n",
      "           1       0.32      0.33      0.32      1599\n",
      "\n",
      "    accuracy                           0.84     13564\n",
      "   macro avg       0.61      0.62      0.62     13564\n",
      "weighted avg       0.84      0.84      0.84     13564\n",
      "\n"
     ]
    }
   ],
   "source": [
    "dTree = DecisionTreeClassifier(criterion = 'gini', random_state = 1)\n",
    "dTree.fit(X_train,y_train)\n",
    "\n",
    "print(\"DT model Train Accuracy: {0:.4f}\".format(dTree.score(X_train,y_train)))\n",
    "print(\"DT model Test Accuracy: {0:.4f}\".format(dTree.score(X_test,y_test)))\n",
    "print(\"<====================================================>\")\n",
    "\n",
    "DT_test_predict = dTree.predict(X_test)\n",
    "print(metrics.classification_report(y_test,DT_test_predict))"
   ]
  },
  {
   "cell_type": "code",
   "execution_count": 54,
   "metadata": {},
   "outputs": [
    {
     "data": {
      "image/png": "[encoded data removed]",
      "text/plain": [
       "<Figure size 504x360 with 2 Axes>"
      ]
     },
     "metadata": {
      "needs_background": "light"
     },
     "output_type": "display_data"
    },
    {
     "name": "stdout",
     "output_type": "stream",
     "text": [
      "Confusion Matrix for Decision Tree Model\n",
      "[[  535  1064]\n",
      " [ 1159 10806]]\n"
     ]
    }
   ],
   "source": [
    "dTree_CM = metrics.confusion_matrix(y_test,DT_test_predict,labels=[1,0])\n",
    "cm = pd.DataFrame(dTree_CM,index = (i for i in [\"1\",\"0\"]),\n",
    "                     columns = (i for i in [\"predict 1\", \"Predict 0\"]))\n",
    "\n",
    "plt.figure(figsize = (7,5))\n",
    "sns.heatmap(cm,annot=True)\n",
    "plt.show()\n",
    "print(\"Confusion Matrix for Decision Tree Model\")\n",
    "print(dTree_CM)"
   ]
  },
  {
   "cell_type": "code",
   "execution_count": 55,
   "metadata": {},
   "outputs": [
    {
     "name": "stdout",
     "output_type": "stream",
     "text": [
      "<====================================================>\n",
      "Linear Model\n",
      "              precision    recall  f1-score   support\n",
      "\n",
      "           0       0.90      0.99      0.94     11965\n",
      "           1       0.62      0.13      0.22      1599\n",
      "\n",
      "    accuracy                           0.89     13564\n",
      "   macro avg       0.76      0.56      0.58     13564\n",
      "weighted avg       0.86      0.89      0.86     13564\n",
      "\n",
      "<====================================================>\n",
      "KNN Model\n",
      "              precision    recall  f1-score   support\n",
      "\n",
      "           0       0.89      0.99      0.94     11965\n",
      "           1       0.54      0.08      0.14      1599\n",
      "\n",
      "    accuracy                           0.88     13564\n",
      "   macro avg       0.72      0.54      0.54     13564\n",
      "weighted avg       0.85      0.88      0.84     13564\n",
      "\n",
      "<====================================================>\n",
      "Naive Bayes Model\n",
      "              precision    recall  f1-score   support\n",
      "\n",
      "           0       0.91      0.84      0.88     11965\n",
      "           1       0.25      0.39      0.30      1599\n",
      "\n",
      "    accuracy                           0.79     13564\n",
      "   macro avg       0.58      0.62      0.59     13564\n",
      "weighted avg       0.83      0.79      0.81     13564\n",
      "\n",
      "<====================================================>\n",
      "SVC Model\n",
      "              precision    recall  f1-score   support\n",
      "\n",
      "           0       0.88      1.00      0.94     11965\n",
      "           1       0.40      0.00      0.00      1599\n",
      "\n",
      "    accuracy                           0.88     13564\n",
      "   macro avg       0.64      0.50      0.47     13564\n",
      "weighted avg       0.83      0.88      0.83     13564\n",
      "\n",
      "<====================================================>\n",
      "Decision Tree Model\n",
      "              precision    recall  f1-score   support\n",
      "\n",
      "           0       0.91      0.90      0.91     11965\n",
      "           1       0.32      0.33      0.32      1599\n",
      "\n",
      "    accuracy                           0.84     13564\n",
      "   macro avg       0.61      0.62      0.62     13564\n",
      "weighted avg       0.84      0.84      0.84     13564\n",
      "\n"
     ]
    }
   ],
   "source": [
    "print(\"<====================================================>\")\n",
    "print(\"Linear Model\")\n",
    "# Classification report of Linear model\n",
    "print(metrics.classification_report(y_test,LR_predicted))\n",
    "print(\"<====================================================>\")\n",
    "print(\"KNN Model\")\n",
    "print(metrics.classification_report(y_test,KNN_predicted))\n",
    "print(\"<====================================================>\")\n",
    "print(\"Naive Bayes Model\")\n",
    "print(metrics.classification_report(y_test,NB_test_predict))\n",
    "print(\"<====================================================>\")\n",
    "print(\"SVC Model\")\n",
    "print(metrics.classification_report(y_test,SVC_test_predict))\n",
    "print(\"<====================================================>\")\n",
    "print(\"Decision Tree Model\")\n",
    "print(metrics.classification_report(y_test,DT_test_predict))"
   ]
  },
  {
   "cell_type": "markdown",
   "metadata": {},
   "source": [
    "The Precsion for Target value 1 is better for Linear and KNN model and recall for all the models for target value 1 is very less too. \n",
    "Accuracy for Linear, KNN and SVC seems to be good when compared to other models and it is above 85%.\n",
    "- Logistic model has very good precision and recal for the target value 0 but very less for the target value 1.\n",
    "- knn model has almost same value on precision and recal for value 0 but it falls behind for value 1\n",
    "- Naive bayes has better values when compared to both the logistic and KNN.\n",
    "- SVC performace is good on precision but recall of target value 0 is very less\n",
    "- decision tree is really better while compared to all the above model. "
   ]
  },
  {
   "cell_type": "markdown",
   "metadata": {},
   "source": [
    "## 6. Ensemble Techniques "
   ]
  },
  {
   "cell_type": "markdown",
   "metadata": {},
   "source": [
    "### Adaptive Boosting Classifirer\n",
    "#### Logistic Regression AdaBoosting Model"
   ]
  },
  {
   "cell_type": "code",
   "execution_count": 56,
   "metadata": {},
   "outputs": [
    {
     "name": "stdout",
     "output_type": "stream",
     "text": [
      "AdaBoosting Logistic Regression model Train Accuracy: 0.8882\n",
      "AdaBoosting Logistic Regression model Test Accuracy: 0.8877\n",
      "<==========================================================================>\n",
      "              precision    recall  f1-score   support\n",
      "\n",
      "           0       0.89      0.99      0.94     11965\n",
      "           1       0.62      0.13      0.21      1599\n",
      "\n",
      "    accuracy                           0.89     13564\n",
      "   macro avg       0.76      0.56      0.57     13564\n",
      "weighted avg       0.86      0.89      0.85     13564\n",
      "\n"
     ]
    }
   ],
   "source": [
    "ABC_LR = AdaBoostClassifier(base_estimator = LogisticRegression(),n_estimators = 50,random_state = 1)\n",
    "ABC_LR = ABC_LR.fit(X_train,y_train)\n",
    "\n",
    "print(\"AdaBoosting Logistic Regression model Train Accuracy: {0:.4f}\".format(ABC_LR.score(X_train,y_train)))\n",
    "print(\"AdaBoosting Logistic Regression model Test Accuracy: {0:.4f}\".format(ABC_LR.score(X_test,y_test)))\n",
    "print(\"<==========================================================================>\")\n",
    "\n",
    "ABC_LR_y_predict = ABC_LR.predict(X_test)\n",
    "print(classification_report(y_test,ABC_LR_y_predict))"
   ]
  },
  {
   "cell_type": "code",
   "execution_count": 57,
   "metadata": {},
   "outputs": [
    {
     "data": {
      "image/png": "[encoded data removed]",
      "text/plain": [
       "<Figure size 504x360 with 2 Axes>"
      ]
     },
     "metadata": {
      "needs_background": "light"
     },
     "output_type": "display_data"
    },
    {
     "name": "stdout",
     "output_type": "stream",
     "text": [
      "Confusion Matrix for Logistic Regression AdaBoosting Model\n",
      "[[  202  1397]\n",
      " [  126 11839]]\n"
     ]
    }
   ],
   "source": [
    "ABC_LR_CM = metrics.confusion_matrix(y_test,ABC_LR_y_predict,labels=[1,0])\n",
    "cm = pd.DataFrame(ABC_LR_CM,index = (i for i in [\"1\",\"0\"]),\n",
    "                     columns = (i for i in [\"predict 1\", \"Predict 0\"]))\n",
    "\n",
    "plt.figure(figsize = (7,5))\n",
    "sns.heatmap(cm,annot=True)\n",
    "plt.show()\n",
    "print(\"Confusion Matrix for Logistic Regression AdaBoosting Model\")\n",
    "print(ABC_LR_CM)"
   ]
  },
  {
   "cell_type": "markdown",
   "metadata": {},
   "source": [
    "##### The Logistic Regression Model and adaptive Boosting Logistic Model has no difference in performance wise\n",
    "The same outcome can be acheived with a simple logistic model hence boosting the model is computationally expensive and we can avoid this model. It is not better than the base model. This model is ovefits. This happens because linear mdoel are similar so the performance dosent increase."
   ]
  },
  {
   "cell_type": "markdown",
   "metadata": {},
   "source": [
    "#### Naive Bayess AdaBoosting Model"
   ]
  },
  {
   "cell_type": "code",
   "execution_count": 58,
   "metadata": {
    "scrolled": true
   },
   "outputs": [
    {
     "name": "stdout",
     "output_type": "stream",
     "text": [
      "AdaBoosting Naive Bayes model Train Accuracy: 0.6646\n",
      "AdaBoosting Naive Bayes model Test Accuracy: 0.6630\n",
      "<===================================================>\n",
      "              precision    recall  f1-score   support\n",
      "\n",
      "           0       0.90      0.69      0.78     11965\n",
      "           1       0.16      0.43      0.23      1599\n",
      "\n",
      "    accuracy                           0.66     13564\n",
      "   macro avg       0.53      0.56      0.51     13564\n",
      "weighted avg       0.81      0.66      0.72     13564\n",
      "\n"
     ]
    }
   ],
   "source": [
    "ABC_NB = AdaBoostClassifier(base_estimator = GaussianNB(),n_estimators = 50,random_state = 5)\n",
    "ABC_NB = ABC_NB.fit(X_train,y_train)\n",
    "\n",
    "print(\"AdaBoosting Naive Bayes model Train Accuracy: {0:.4f}\".format(ABC_NB.score(X_train,y_train)))\n",
    "print(\"AdaBoosting Naive Bayes model Test Accuracy: {0:.4f}\".format(ABC_NB.score(X_test,y_test)))\n",
    "print(\"<===================================================>\")\n",
    "\n",
    "ABC_NB_predict = ABC_NB.predict(X_test)\n",
    "print(classification_report(y_test,ABC_NB_predict))"
   ]
  },
  {
   "cell_type": "code",
   "execution_count": 59,
   "metadata": {},
   "outputs": [
    {
     "data": {
      "image/png": "[encoded data removed]",
      "text/plain": [
       "<Figure size 504x360 with 2 Axes>"
      ]
     },
     "metadata": {
      "needs_background": "light"
     },
     "output_type": "display_data"
    },
    {
     "name": "stdout",
     "output_type": "stream",
     "text": [
      "Confusion Matrix for Naive Bayes AdaBoosting Model\n",
      "[[ 688  911]\n",
      " [3660 8305]]\n"
     ]
    }
   ],
   "source": [
    "ABC_NB_CM = metrics.confusion_matrix(y_test,ABC_NB_predict,labels=[1,0])\n",
    "cm = pd.DataFrame(ABC_NB_CM,index = (i for i in [\"1\",\"0\"]),\n",
    "                     columns = (i for i in [\"predict 1\", \"Predict 0\"]))\n",
    "\n",
    "plt.figure(figsize = (7,5))\n",
    "sns.heatmap(cm,annot=True)\n",
    "plt.show()\n",
    "print(\"Confusion Matrix for Naive Bayes AdaBoosting Model\")\n",
    "print(ABC_NB_CM)"
   ]
  },
  {
   "cell_type": "markdown",
   "metadata": {},
   "source": [
    "Naive Bayes model is little bit underperforming than the base model. It looks like stable model as it is without boosting it and after boosting there is not much difference in the performance."
   ]
  },
  {
   "cell_type": "markdown",
   "metadata": {},
   "source": [
    "#### Decision Tree AdaBoosting model"
   ]
  },
  {
   "cell_type": "code",
   "execution_count": 60,
   "metadata": {},
   "outputs": [
    {
     "name": "stdout",
     "output_type": "stream",
     "text": [
      "AdaBoosting Decision Tree model Train Accuracy: 0.8928\n",
      "AdaBoosting Decision Tree model Test Accuracy: 0.8927\n",
      "<===================================================>\n",
      "              precision    recall  f1-score   support\n",
      "\n",
      "           0       0.90      0.99      0.94     11965\n",
      "           1       0.66      0.19      0.29      1599\n",
      "\n",
      "    accuracy                           0.89     13564\n",
      "   macro avg       0.78      0.59      0.62     13564\n",
      "weighted avg       0.87      0.89      0.87     13564\n",
      "\n"
     ]
    }
   ],
   "source": [
    "ABC_DT = AdaBoostClassifier(n_estimators = 10, random_state = 5)\n",
    "ABC_DT = ABC_DT.fit(X_train, y_train)\n",
    "\n",
    "print(\"AdaBoosting Decision Tree model Train Accuracy: {0:.4f}\".format(ABC_DT.score(X_train,y_train)))\n",
    "print(\"AdaBoosting Decision Tree model Test Accuracy: {0:.4f}\".format(ABC_DT.score(X_test,y_test)))\n",
    "print(\"<===================================================>\")\n",
    "\n",
    "ABC_DT_predict = ABC_DT.predict(X_test)\n",
    "print(classification_report(y_test,ABC_DT_predict))"
   ]
  },
  {
   "cell_type": "code",
   "execution_count": 61,
   "metadata": {},
   "outputs": [
    {
     "data": {
      "image/png": "[encoded data removed]",
      "text/plain": [
       "<Figure size 504x360 with 2 Axes>"
      ]
     },
     "metadata": {
      "needs_background": "light"
     },
     "output_type": "display_data"
    },
    {
     "name": "stdout",
     "output_type": "stream",
     "text": [
      "Confusion Matrix for Decision Tree AdaBoosting Model\n",
      "[[  303  1296]\n",
      " [  159 11806]]\n"
     ]
    }
   ],
   "source": [
    "ABC_DT_CM = metrics.confusion_matrix(y_test,ABC_DT_predict,labels=[1,0])\n",
    "cm = pd.DataFrame(ABC_DT_CM,index = (i for i in [\"1\",\"0\"]),\n",
    "                     columns = (i for i in [\"predict 1\", \"Predict 0\"]))\n",
    "\n",
    "plt.figure(figsize = (7,5))\n",
    "sns.heatmap(cm,annot=True)\n",
    "plt.show()\n",
    "print(\"Confusion Matrix for Decision Tree AdaBoosting Model\")\n",
    "print(ABC_DT_CM)"
   ]
  },
  {
   "cell_type": "markdown",
   "metadata": {},
   "source": [
    "We can see a good increase in the precision of the value 1 in this model."
   ]
  },
  {
   "cell_type": "markdown",
   "metadata": {},
   "source": [
    "#### Decision Tree Classifier with pruned tree in AdaBoosting Model"
   ]
  },
  {
   "cell_type": "code",
   "execution_count": 62,
   "metadata": {},
   "outputs": [
    {
     "name": "stdout",
     "output_type": "stream",
     "text": [
      "AdaBoosting Decision Tree(pruned) model Train Accuracy: 0.9809\n",
      "AdaBoosting Decision Tree(pruned) model Test Accuracy: 0.8574\n",
      "<===================================================>\n",
      "              precision    recall  f1-score   support\n",
      "\n",
      "           0       0.91      0.94      0.92     11965\n",
      "           1       0.36      0.28      0.31      1599\n",
      "\n",
      "    accuracy                           0.86     13564\n",
      "   macro avg       0.63      0.61      0.62     13564\n",
      "weighted avg       0.84      0.86      0.85     13564\n",
      "\n"
     ]
    }
   ],
   "source": [
    "ABC_DTP = AdaBoostClassifier(base_estimator = DecisionTreeClassifier(criterion = \"entropy\", max_depth = 17, random_state = 10), n_estimators = 3, random_state = 5)\n",
    "ABC_DTP = ABC_DTP.fit(X_train, y_train)\n",
    "\n",
    "print(\"AdaBoosting Decision Tree(pruned) model Train Accuracy: {0:.4f}\".format(ABC_DTP.score(X_train,y_train)))\n",
    "print(\"AdaBoosting Decision Tree(pruned) model Test Accuracy: {0:.4f}\".format(ABC_DTP.score(X_test,y_test)))\n",
    "print(\"<===================================================>\")\n",
    "\n",
    "ABC_DTP_predict = ABC_DTP.predict(X_test)\n",
    "print(classification_report(y_test,ABC_DTP_predict))"
   ]
  },
  {
   "cell_type": "code",
   "execution_count": 63,
   "metadata": {},
   "outputs": [
    {
     "data": {
      "image/png": "[encoded data removed]",
      "text/plain": [
       "<Figure size 504x360 with 2 Axes>"
      ]
     },
     "metadata": {
      "needs_background": "light"
     },
     "output_type": "display_data"
    },
    {
     "name": "stdout",
     "output_type": "stream",
     "text": [
      "Confusion Matrix for Decison Tree(pruned) AdaBoosting Model\n",
      "[[  442  1157]\n",
      " [  777 11188]]\n"
     ]
    }
   ],
   "source": [
    "ABC_DTP_CM = metrics.confusion_matrix(y_test,ABC_DTP_predict,labels=[1,0])\n",
    "cm = pd.DataFrame(ABC_DTP_CM,index = (i for i in [\"1\",\"0\"]),\n",
    "                     columns = (i for i in [\"predict 1\", \"Predict 0\"]))\n",
    "\n",
    "plt.figure(figsize = (7,5))\n",
    "sns.heatmap(cm,annot=True)\n",
    "plt.show()\n",
    "print(\"Confusion Matrix for Decison Tree(pruned) AdaBoosting Model\")\n",
    "print(ABC_DTP_CM)"
   ]
  },
  {
   "cell_type": "markdown",
   "metadata": {},
   "source": [
    "pruning the tree seems to bring it close to the actual model. so it is better with default boosting"
   ]
  },
  {
   "cell_type": "markdown",
   "metadata": {},
   "source": [
    "##### over all in the boosting the simple boosted decision tree is better than other model.\n",
    "- SVC algorithm is not implemented in boosting since SVM is a very powerful algorithm. Boosting is used to combine simple algorithm to create a powerful model. so this criteria is not satisfied for SVC.\n",
    "- knn cant be used as a base model since boosting uses weighted samples"
   ]
  },
  {
   "cell_type": "markdown",
   "metadata": {},
   "source": [
    "### Bagging Classifier\n",
    "#### Logistic Regression Bagging model"
   ]
  },
  {
   "cell_type": "code",
   "execution_count": 64,
   "metadata": {},
   "outputs": [
    {
     "name": "stdout",
     "output_type": "stream",
     "text": [
      "Logistic Regression Bagging model Train Accuracy: 0.8890\n",
      "Logistic Regression Bagging model Test Accuracy: 0.8876\n",
      "<===================================================>\n",
      "              precision    recall  f1-score   support\n",
      "\n",
      "           0       0.90      0.99      0.94     11965\n",
      "           1       0.61      0.13      0.22      1599\n",
      "\n",
      "    accuracy                           0.89     13564\n",
      "   macro avg       0.75      0.56      0.58     13564\n",
      "weighted avg       0.86      0.89      0.85     13564\n",
      "\n"
     ]
    }
   ],
   "source": [
    "Bag_LR = BaggingClassifier(base_estimator = LogisticRegression() ,n_estimators = 80,random_state = 5)\n",
    "Bag_LR = Bag_LR.fit(X_train,y_train)\n",
    "\n",
    "\n",
    "print(\"Logistic Regression Bagging model Train Accuracy: {0:.4f}\".format(Bag_LR.score(X_train,y_train)))\n",
    "print(\"Logistic Regression Bagging model Test Accuracy: {0:.4f}\".format(Bag_LR.score(X_test,y_test)))\n",
    "print(\"<===================================================>\")\n",
    "\n",
    "Bag_LR_predict = Bag_LR.predict(X_test)\n",
    "print(metrics.classification_report(y_test,Bag_LR_predict))"
   ]
  },
  {
   "cell_type": "code",
   "execution_count": 65,
   "metadata": {},
   "outputs": [
    {
     "data": {
      "image/png": "[encoded data removed]",
      "text/plain": [
       "<Figure size 504x360 with 2 Axes>"
      ]
     },
     "metadata": {
      "needs_background": "light"
     },
     "output_type": "display_data"
    },
    {
     "name": "stdout",
     "output_type": "stream",
     "text": [
      "Confusion Matrix for Logistic Regression Bagging Model\n",
      "[[  214  1385]\n",
      " [  139 11826]]\n"
     ]
    }
   ],
   "source": [
    "Bag_LR_CM = metrics.confusion_matrix(y_test,Bag_LR_predict,labels=[1,0])\n",
    "cm = pd.DataFrame(Bag_LR_CM,index = (i for i in [\"1\",\"0\"]),\n",
    "                     columns = (i for i in [\"predict 1\", \"Predict 0\"]))\n",
    "\n",
    "plt.figure(figsize = (7,5))\n",
    "sns.heatmap(cm,annot=True)\n",
    "plt.show()\n",
    "print(\"Confusion Matrix for Logistic Regression Bagging Model\")\n",
    "print(Bag_LR_CM)"
   ]
  },
  {
   "cell_type": "markdown",
   "metadata": {},
   "source": [
    "Just like boosting Bagging a logistic model is not performing any better than base model. The reason is logitic regression are stable model."
   ]
  },
  {
   "cell_type": "markdown",
   "metadata": {},
   "source": [
    "#### KNN Bagging model"
   ]
  },
  {
   "cell_type": "code",
   "execution_count": 66,
   "metadata": {},
   "outputs": [
    {
     "name": "stdout",
     "output_type": "stream",
     "text": [
      "KNN Bagging model Train Accuracy: 0.8890\n",
      "KNN Bagging model Test Accuracy: 0.8876\n",
      "<===================================================>\n",
      "              precision    recall  f1-score   support\n",
      "\n",
      "           0       0.90      0.99      0.94     11965\n",
      "           1       0.61      0.13      0.22      1599\n",
      "\n",
      "    accuracy                           0.89     13564\n",
      "   macro avg       0.75      0.56      0.58     13564\n",
      "weighted avg       0.86      0.89      0.85     13564\n",
      "\n"
     ]
    }
   ],
   "source": [
    "Bag_KNN = BaggingClassifier(base_estimator = KNeighborsClassifier(n_neighbors = 5, weights = 'distance') ,n_estimators = 80,random_state = 5)\n",
    "Bag_KNN = Bag_LR.fit(X_train,y_train)\n",
    "\n",
    "print(\"KNN Bagging model Train Accuracy: {0:.4f}\".format(Bag_KNN.score(X_train,y_train)))\n",
    "print(\"KNN Bagging model Test Accuracy: {0:.4f}\".format(Bag_KNN.score(X_test,y_test)))\n",
    "print(\"<===================================================>\")\n",
    "\n",
    "Bag_KNN_predict = Bag_KNN.predict(X_test)\n",
    "print(metrics.classification_report(y_test,Bag_KNN_predict))"
   ]
  },
  {
   "cell_type": "code",
   "execution_count": 67,
   "metadata": {},
   "outputs": [
    {
     "data": {
      "image/png": "[encoded data removed]",
      "text/plain": [
       "<Figure size 504x360 with 2 Axes>"
      ]
     },
     "metadata": {
      "needs_background": "light"
     },
     "output_type": "display_data"
    },
    {
     "name": "stdout",
     "output_type": "stream",
     "text": [
      "Confusion Matrix for KNN Bagging Model\n",
      "[[  214  1385]\n",
      " [  139 11826]]\n"
     ]
    }
   ],
   "source": [
    "Bag_KNN_CM = metrics.confusion_matrix(y_test,Bag_KNN_predict,labels=[1,0])\n",
    "cm = pd.DataFrame(Bag_KNN_CM,index = (i for i in [\"1\",\"0\"]),\n",
    "                     columns = (i for i in [\"predict 1\", \"Predict 0\"]))\n",
    "\n",
    "plt.figure(figsize = (7,5))\n",
    "sns.heatmap(cm,annot=True)\n",
    "plt.show()\n",
    "print(\"Confusion Matrix for KNN Bagging Model\")\n",
    "print(Bag_KNN_CM)"
   ]
  },
  {
   "cell_type": "markdown",
   "metadata": {},
   "source": [
    "- bagging KNN is computationaly expensive since the distance of each data point is calculated and the data has huge number of records. The Target value is unevenly distributed as 0 has very high number of records compared to 1.\n",
    "- it gives a slightly better performance than the base model for the target value 1 but still this model is not acceptable when we look at the expensive computation performed over a very small change in the outcome"
   ]
  },
  {
   "cell_type": "markdown",
   "metadata": {},
   "source": [
    "#### Naive Bayes Bagging model"
   ]
  },
  {
   "cell_type": "code",
   "execution_count": 68,
   "metadata": {},
   "outputs": [
    {
     "name": "stdout",
     "output_type": "stream",
     "text": [
      "Naive Bayes Bagging model Train Accuracy: 0.7913\n",
      "Naive Bayes Bagging model Test Accuracy: 0.7902\n",
      "<===================================================>\n",
      "              precision    recall  f1-score   support\n",
      "\n",
      "           0       0.91      0.84      0.88     11965\n",
      "           1       0.25      0.39      0.30      1599\n",
      "\n",
      "    accuracy                           0.79     13564\n",
      "   macro avg       0.58      0.62      0.59     13564\n",
      "weighted avg       0.83      0.79      0.81     13564\n",
      "\n"
     ]
    }
   ],
   "source": [
    "Bag_NB = BaggingClassifier(base_estimator = GaussianNB() ,n_estimators = 80,random_state = 5)\n",
    "Bag_NB = Bag_NB.fit(X_train,y_train)\n",
    "\n",
    "print(\"Naive Bayes Bagging model Train Accuracy: {0:.4f}\".format(Bag_NB.score(X_train,y_train)))\n",
    "print(\"Naive Bayes Bagging model Test Accuracy: {0:.4f}\".format(Bag_NB.score(X_test,y_test)))\n",
    "print(\"<===================================================>\")\n",
    "\n",
    "Bag_NB_predict = Bag_NB.predict(X_test)\n",
    "print(metrics.classification_report(y_test,Bag_NB_predict))"
   ]
  },
  {
   "cell_type": "code",
   "execution_count": 69,
   "metadata": {},
   "outputs": [
    {
     "data": {
      "image/png": "[encoded data removed]",
      "text/plain": [
       "<Figure size 504x360 with 2 Axes>"
      ]
     },
     "metadata": {
      "needs_background": "light"
     },
     "output_type": "display_data"
    },
    {
     "name": "stdout",
     "output_type": "stream",
     "text": [
      "Confusion Matrix for Naive Bayes Bagging Model\n",
      "[[  624   975]\n",
      " [ 1871 10094]]\n"
     ]
    }
   ],
   "source": [
    "Bag_NB_CM = metrics.confusion_matrix(y_test,Bag_NB_predict,labels=[1,0])\n",
    "cm = pd.DataFrame(Bag_NB_CM,index = (i for i in [\"1\",\"0\"]),\n",
    "                     columns = (i for i in [\"predict 1\", \"Predict 0\"]))\n",
    "\n",
    "plt.figure(figsize = (7,5))\n",
    "sns.heatmap(cm,annot=True)\n",
    "plt.show()\n",
    "print(\"Confusion Matrix for Naive Bayes Bagging Model\")\n",
    "print(Bag_NB_CM)"
   ]
  },
  {
   "cell_type": "markdown",
   "metadata": {},
   "source": [
    "- There is no imporovement in the performance of the bagging naive bayess when we compare it to the base model. "
   ]
  },
  {
   "cell_type": "markdown",
   "metadata": {},
   "source": [
    "#### SVC Bagging model"
   ]
  },
  {
   "cell_type": "code",
   "execution_count": 71,
   "metadata": {},
   "outputs": [
    {
     "name": "stdout",
     "output_type": "stream",
     "text": [
      "Bagging SVC model Train Accuracy: 0.8834\n",
      "Bagging SVC model Test Accuracy: 0.8821\n",
      "<===================================================>\n",
      "              precision    recall  f1-score   support\n",
      "\n",
      "           0       0.88      1.00      0.94     11965\n",
      "           1       0.00      0.00      0.00      1599\n",
      "\n",
      "    accuracy                           0.88     13564\n",
      "   macro avg       0.44      0.50      0.47     13564\n",
      "weighted avg       0.78      0.88      0.83     13564\n",
      "\n"
     ]
    }
   ],
   "source": [
    "#from sklearn.ensemble import BaggingClassifier\n",
    "Bag_SVC = BaggingClassifier(base_estimator = SVC(gamma = 0.00001, C = 10) ,n_estimators = 80,random_state = 5)\n",
    "Bag_SVC = Bag_SVC.fit(X_train,y_train)\n",
    "\n",
    "print(\"Bagging SVC model Train Accuracy: {0:.4f}\".format(Bag_SVC.score(X_train,y_train)))\n",
    "print(\"Bagging SVC model Test Accuracy: {0:.4f}\".format(Bag_SVC.score(X_test,y_test)))\n",
    "print(\"<===================================================>\")\n",
    "\n",
    "Bag_SVC_predict = Bag_SVC.predict(X_test)\n",
    "print(metrics.classification_report(y_test,Bag_SVC_predict))"
   ]
  },
  {
   "cell_type": "code",
   "execution_count": 72,
   "metadata": {},
   "outputs": [
    {
     "data": {
      "image/png": "[encoded data removed]",
      "text/plain": [
       "<Figure size 504x360 with 2 Axes>"
      ]
     },
     "metadata": {
      "needs_background": "light"
     },
     "output_type": "display_data"
    },
    {
     "name": "stdout",
     "output_type": "stream",
     "text": [
      "Confusion Matrix for SVC Bagging Model\n",
      "[[    0  1599]\n",
      " [    0 11965]]\n"
     ]
    }
   ],
   "source": [
    "Bag_SVC_CM = metrics.confusion_matrix(y_test,Bag_SVC_predict,labels=[1,0])\n",
    "cm = pd.DataFrame(Bag_SVC_CM,index = (i for i in [\"1\",\"0\"]),\n",
    "                     columns = (i for i in [\"predict 1\", \"Predict 0\"]))\n",
    "\n",
    "plt.figure(figsize = (7,5))\n",
    "sns.heatmap(cm,annot=True)\n",
    "plt.show()\n",
    "print(\"Confusion Matrix for SVC Bagging Model\")\n",
    "print(Bag_SVC_CM)"
   ]
  },
  {
   "cell_type": "markdown",
   "metadata": {},
   "source": [
    "- It can be noticed that the target varibale 1 has completely lost its previous score in the base model\n",
    "- This model is very heavy and time consuming.\n",
    "- The outcome is the decreased performance for the time it has take. This model is completely unsuitable."
   ]
  },
  {
   "cell_type": "markdown",
   "metadata": {},
   "source": [
    "#### Decision Tree Bagging Model"
   ]
  },
  {
   "cell_type": "code",
   "execution_count": 74,
   "metadata": {},
   "outputs": [
    {
     "name": "stdout",
     "output_type": "stream",
     "text": [
      "Bagging Decision Tree Bagging model Train Accuracy: 0.9999\n",
      "Bagging Decision Tree Bagging model Test Accuracy: 0.8874\n",
      "<===================================================>\n",
      "              precision    recall  f1-score   support\n",
      "\n",
      "           0       0.91      0.97      0.94     11965\n",
      "           1       0.55      0.24      0.33      1599\n",
      "\n",
      "    accuracy                           0.89     13564\n",
      "   macro avg       0.73      0.61      0.64     13564\n",
      "weighted avg       0.86      0.89      0.87     13564\n",
      "\n"
     ]
    }
   ],
   "source": [
    "Bag_DT = BaggingClassifier(n_estimators = 80, random_state = 5)\n",
    "Bat_DT = Bag_DT.fit(X_train, y_train)\n",
    "\n",
    "print(\"Bagging Decision Tree Bagging model Train Accuracy: {0:.4f}\".format(Bag_DT.score(X_train,y_train)))\n",
    "print(\"Bagging Decision Tree Bagging model Test Accuracy: {0:.4f}\".format(Bag_DT.score(X_test,y_test)))\n",
    "print(\"<===================================================>\")\n",
    "\n",
    "Bag_DT_predict = Bag_DT.predict(X_test)\n",
    "print(metrics.classification_report(y_test,Bag_DT_predict))"
   ]
  },
  {
   "cell_type": "code",
   "execution_count": 75,
   "metadata": {},
   "outputs": [
    {
     "data": {
      "image/png": "[encoded data removed]",
      "text/plain": [
       "<Figure size 504x360 with 2 Axes>"
      ]
     },
     "metadata": {
      "needs_background": "light"
     },
     "output_type": "display_data"
    },
    {
     "name": "stdout",
     "output_type": "stream",
     "text": [
      "Confusion Matrix for Decision Tree Bagging Model\n",
      "[[  383  1216]\n",
      " [  311 11654]]\n"
     ]
    }
   ],
   "source": [
    "Bag_DT_CM = metrics.confusion_matrix(y_test,Bag_DT_predict,labels=[1,0])\n",
    "cm = pd.DataFrame(Bag_DT_CM, index = (i for i in [\"1\",\"0\"]),\n",
    "                 columns = (i for i in [\"predict 1\", \"predict 0\"]))\n",
    "\n",
    "plt.figure(figsize = (7,5))\n",
    "sns.heatmap(cm,annot = True)\n",
    "plt.show()\n",
    "print(\"Confusion Matrix for Decision Tree Bagging Model\")\n",
    "print(Bag_DT_CM)"
   ]
  },
  {
   "cell_type": "markdown",
   "metadata": {},
   "source": [
    "- There is a slight drop in recall of target value 1. But there is a good improvement on the precision.\n",
    "- There is an increase in the recall of target value 0. \n",
    "- There is improvement in accuracy of the model too."
   ]
  },
  {
   "cell_type": "markdown",
   "metadata": {},
   "source": [
    "##### Pruned DT Bagging"
   ]
  },
  {
   "cell_type": "code",
   "execution_count": 76,
   "metadata": {},
   "outputs": [
    {
     "name": "stdout",
     "output_type": "stream",
     "text": [
      "Decision Tree(Pruned) Bagging model Train Accuracy: 0.9686\n",
      "Desicion Tree(Pruned) Bagging  model Test Accuracy: 0.8890\n",
      "<===================================================>\n",
      "              precision    recall  f1-score   support\n",
      "\n",
      "           0       0.91      0.98      0.94     11965\n",
      "           1       0.57      0.24      0.34      1599\n",
      "\n",
      "    accuracy                           0.89     13564\n",
      "   macro avg       0.74      0.61      0.64     13564\n",
      "weighted avg       0.87      0.89      0.87     13564\n",
      "\n"
     ]
    }
   ],
   "source": [
    "Bag_DTP = BaggingClassifier(base_estimator = DecisionTreeClassifier(criterion = \"entropy\", max_depth = 20, random_state = 10), n_estimators = 80, random_state = 5)\n",
    "Bag_DTP = Bag_DTP.fit(X_train, y_train)\n",
    "\n",
    "print(\"Decision Tree(Pruned) Bagging model Train Accuracy: {0:.4f}\".format(Bag_DTP.score(X_train, y_train)))\n",
    "print(\"Desicion Tree(Pruned) Bagging  model Test Accuracy: {0:.4f}\".format(Bag_DTP.score(X_test,y_test)))\n",
    "print(\"<===================================================>\")\n",
    "\n",
    "Bag_DTP_predict = Bag_DTP.predict(X_test)\n",
    "print(metrics.classification_report(y_test,Bag_DTP_predict))"
   ]
  },
  {
   "cell_type": "code",
   "execution_count": 77,
   "metadata": {},
   "outputs": [
    {
     "data": {
      "image/png": "[encoded data removed]",
      "text/plain": [
       "<Figure size 504x360 with 2 Axes>"
      ]
     },
     "metadata": {
      "needs_background": "light"
     },
     "output_type": "display_data"
    },
    {
     "name": "stdout",
     "output_type": "stream",
     "text": [
      "Confusion Matrix for DEcision Tree(pruned) Bagging Model\n",
      "[[  383  1216]\n",
      " [  290 11675]]\n"
     ]
    }
   ],
   "source": [
    "Bag_DTP_CM = metrics.confusion_matrix(y_test,Bag_DTP_predict, labels = [1,0])\n",
    "cm = pd.DataFrame(Bag_DTP_CM, index = (i for i in [\"1\",\"0\"]),\n",
    "                 columns = (i for i in [\"predict 1\", \"predict 0\"]))\n",
    "\n",
    "plt.figure(figsize = (7,5))\n",
    "sns.heatmap(cm,annot = True)\n",
    "plt.show()\n",
    "print(\"Confusion Matrix for DEcision Tree(pruned) Bagging Model\")\n",
    "print(Bag_DTP_CM)"
   ]
  },
  {
   "cell_type": "markdown",
   "metadata": {},
   "source": [
    "- After prunning There is an improvement in precision of the target value 1. \n",
    "- Recall of target value 0 is also improved slightly."
   ]
  },
  {
   "cell_type": "markdown",
   "metadata": {},
   "source": [
    "### Random Forest Classifier"
   ]
  },
  {
   "cell_type": "code",
   "execution_count": 79,
   "metadata": {},
   "outputs": [
    {
     "name": "stdout",
     "output_type": "stream",
     "text": [
      "Random Forest classifier model Train Accuracy: 0.9720\n",
      "Random Forest classifier model Train Accuracy: 0.8908\n",
      "<===================================================>\n",
      "              precision    recall  f1-score   support\n",
      "\n",
      "           0       0.91      0.98      0.94     11965\n",
      "           1       0.59      0.24      0.34      1599\n",
      "\n",
      "    accuracy                           0.89     13564\n",
      "   macro avg       0.75      0.61      0.64     13564\n",
      "weighted avg       0.87      0.89      0.87     13564\n",
      "\n"
     ]
    }
   ],
   "source": [
    "RFC1 = RandomForestClassifier(n_estimators = 75,random_state = 5,max_depth = 20, max_features = 10)\n",
    "RFC1 = RFC1.fit(X_train,y_train)\n",
    "\n",
    "print(\"Random Forest classifier model Train Accuracy: {0:.4f}\".format(RFC1.score(X_train,y_train)))\n",
    "print(\"Random Forest classifier model Train Accuracy: {0:.4f}\".format(RFC1.score(X_test,y_test)))\n",
    "print(\"<===================================================>\")\n",
    "\n",
    "RFC_y_predict = RFC1.predict(X_test)\n",
    "print(metrics.classification_report(y_test,RFC_y_predict))"
   ]
  },
  {
   "cell_type": "code",
   "execution_count": 80,
   "metadata": {},
   "outputs": [
    {
     "data": {
      "image/png": "[encoded data removed]",
      "text/plain": [
       "<Figure size 504x360 with 2 Axes>"
      ]
     },
     "metadata": {
      "needs_background": "light"
     },
     "output_type": "display_data"
    },
    {
     "name": "stdout",
     "output_type": "stream",
     "text": [
      "Confusion Matrix for Random Forest classifier Model\n"
     ]
    },
    {
     "data": {
      "text/plain": [
       "array([[  376,  1223],\n",
       "       [  258, 11707]], dtype=int64)"
      ]
     },
     "execution_count": 80,
     "metadata": {},
     "output_type": "execute_result"
    }
   ],
   "source": [
    "RFC_CM = metrics.confusion_matrix(y_test,RFC_y_predict,labels=[1,0])\n",
    "cm = pd.DataFrame(RFC_CM,index = (i for i in [\"1\",\"0\"]),\n",
    "                     columns = (i for i in [\"predict 1\", \"Predict 0\"]))\n",
    "\n",
    "\n",
    "plt.figure(figsize = (7,5))\n",
    "sns.heatmap(cm,annot=True)\n",
    "plt.show()\n",
    "\n",
    "print(\"Confusion Matrix for Random Forest classifier Model\")\n",
    "RFC_CM"
   ]
  },
  {
   "cell_type": "markdown",
   "metadata": {},
   "source": [
    "- Accuracy is increased from all the other models and even better than decision tree model\n",
    "- Precision of the target value is increased from the other models. \n",
    "- This model is much better than all the other model."
   ]
  },
  {
   "cell_type": "markdown",
   "metadata": {},
   "source": [
    "### Comparing all the models"
   ]
  },
  {
   "cell_type": "markdown",
   "metadata": {},
   "source": [
    "#### Linear Model"
   ]
  },
  {
   "cell_type": "code",
   "execution_count": 83,
   "metadata": {},
   "outputs": [
    {
     "name": "stdout",
     "output_type": "stream",
     "text": [
      "Logistic Base Model\n",
      "              precision    recall  f1-score   support\n",
      "\n",
      "           0       0.90      0.99      0.94     11965\n",
      "           1       0.62      0.13      0.22      1599\n",
      "\n",
      "    accuracy                           0.89     13564\n",
      "   macro avg       0.76      0.56      0.58     13564\n",
      "weighted avg       0.86      0.89      0.86     13564\n",
      "\n",
      "Logistic Adaboosting Model\n",
      "              precision    recall  f1-score   support\n",
      "\n",
      "           0       0.89      0.99      0.94     11965\n",
      "           1       0.62      0.13      0.21      1599\n",
      "\n",
      "    accuracy                           0.89     13564\n",
      "   macro avg       0.76      0.56      0.57     13564\n",
      "weighted avg       0.86      0.89      0.85     13564\n",
      "\n",
      "Logistic Bagging Model\n",
      "              precision    recall  f1-score   support\n",
      "\n",
      "           0       0.90      0.99      0.94     11965\n",
      "           1       0.61      0.13      0.22      1599\n",
      "\n",
      "    accuracy                           0.89     13564\n",
      "   macro avg       0.75      0.56      0.58     13564\n",
      "weighted avg       0.86      0.89      0.85     13564\n",
      "\n"
     ]
    }
   ],
   "source": [
    "print(\"Logistic Base Model\")\n",
    "print(metrics.classification_report(y_test,LR_predicted))\n",
    "print(\"Logistic Adaboosting Model\")\n",
    "print(classification_report(y_test,ABC_LR_y_predict))\n",
    "print(\"Logistic Bagging Model\")\n",
    "print(metrics.classification_report(y_test,Bag_LR_predict))"
   ]
  },
  {
   "cell_type": "markdown",
   "metadata": {},
   "source": [
    "There is no imporvement from the losgitic models. "
   ]
  },
  {
   "cell_type": "markdown",
   "metadata": {},
   "source": [
    "#### KNN Model"
   ]
  },
  {
   "cell_type": "code",
   "execution_count": 84,
   "metadata": {},
   "outputs": [
    {
     "name": "stdout",
     "output_type": "stream",
     "text": [
      "KNN Base Model\n",
      "              precision    recall  f1-score   support\n",
      "\n",
      "           0       0.89      0.99      0.94     11965\n",
      "           1       0.54      0.08      0.14      1599\n",
      "\n",
      "    accuracy                           0.88     13564\n",
      "   macro avg       0.72      0.54      0.54     13564\n",
      "weighted avg       0.85      0.88      0.84     13564\n",
      "\n",
      "KNN Bagging Model\n",
      "              precision    recall  f1-score   support\n",
      "\n",
      "           0       0.90      0.99      0.94     11965\n",
      "           1       0.61      0.13      0.22      1599\n",
      "\n",
      "    accuracy                           0.89     13564\n",
      "   macro avg       0.75      0.56      0.58     13564\n",
      "weighted avg       0.86      0.89      0.85     13564\n",
      "\n"
     ]
    }
   ],
   "source": [
    "print(\"KNN Base Model\")\n",
    "print(metrics.classification_report(y_test,KNN_predicted))\n",
    "print(\"KNN Bagging Model\")\n",
    "print(metrics.classification_report(y_test,Bag_KNN_predict))"
   ]
  },
  {
   "cell_type": "markdown",
   "metadata": {},
   "source": [
    "There is a slight improvement for the Bagging KNN model but it is still not suitable."
   ]
  },
  {
   "cell_type": "markdown",
   "metadata": {},
   "source": [
    "#### Naive Bayes"
   ]
  },
  {
   "cell_type": "code",
   "execution_count": 85,
   "metadata": {},
   "outputs": [
    {
     "name": "stdout",
     "output_type": "stream",
     "text": [
      "Naive Bayes Base Model\n",
      "              precision    recall  f1-score   support\n",
      "\n",
      "           0       0.91      0.84      0.88     11965\n",
      "           1       0.25      0.39      0.30      1599\n",
      "\n",
      "    accuracy                           0.79     13564\n",
      "   macro avg       0.58      0.62      0.59     13564\n",
      "weighted avg       0.83      0.79      0.81     13564\n",
      "\n",
      "Naive Bayes AdaBoosting Model\n",
      "              precision    recall  f1-score   support\n",
      "\n",
      "           0       0.90      0.69      0.78     11965\n",
      "           1       0.16      0.43      0.23      1599\n",
      "\n",
      "    accuracy                           0.66     13564\n",
      "   macro avg       0.53      0.56      0.51     13564\n",
      "weighted avg       0.81      0.66      0.72     13564\n",
      "\n",
      "Naive Bayes Bagging Model\n",
      "              precision    recall  f1-score   support\n",
      "\n",
      "           0       0.91      0.84      0.88     11965\n",
      "           1       0.25      0.39      0.30      1599\n",
      "\n",
      "    accuracy                           0.79     13564\n",
      "   macro avg       0.58      0.62      0.59     13564\n",
      "weighted avg       0.83      0.79      0.81     13564\n",
      "\n"
     ]
    }
   ],
   "source": [
    "print(\"Naive Bayes Base Model\")\n",
    "print(metrics.classification_report(y_test,NB_test_predict))\n",
    "print(\"Naive Bayes AdaBoosting Model\")\n",
    "print(metrics.classification_report(y_test,ABC_NB_predict))\n",
    "print(\"Naive Bayes Bagging Model\")\n",
    "print(metrics.classification_report(y_test,Bag_NB_predict))"
   ]
  },
  {
   "cell_type": "markdown",
   "metadata": {},
   "source": [
    "- The precision of the Target Vaule 1 is very less and it is even less for Adaptive boosting model.\n",
    "- recall is droping in the adaptive boosting model for the target value 0 .\n",
    "- This model is unsuitable"
   ]
  },
  {
   "cell_type": "markdown",
   "metadata": {},
   "source": [
    "#### SVC"
   ]
  },
  {
   "cell_type": "code",
   "execution_count": 86,
   "metadata": {},
   "outputs": [
    {
     "name": "stdout",
     "output_type": "stream",
     "text": [
      "SVC Base Model\n",
      "              precision    recall  f1-score   support\n",
      "\n",
      "           0       0.88      1.00      0.94     11965\n",
      "           1       0.40      0.00      0.00      1599\n",
      "\n",
      "    accuracy                           0.88     13564\n",
      "   macro avg       0.64      0.50      0.47     13564\n",
      "weighted avg       0.83      0.88      0.83     13564\n",
      "\n",
      "SVC Bagging Model\n",
      "              precision    recall  f1-score   support\n",
      "\n",
      "           0       0.88      1.00      0.94     11965\n",
      "           1       0.00      0.00      0.00      1599\n",
      "\n",
      "    accuracy                           0.88     13564\n",
      "   macro avg       0.44      0.50      0.47     13564\n",
      "weighted avg       0.78      0.88      0.83     13564\n",
      "\n"
     ]
    }
   ],
   "source": [
    "print(\"SVC Base Model\")\n",
    "print(metrics.classification_report(y_test,SVC_test_predict))\n",
    "print(\"SVC Bagging Model\")\n",
    "print(metrics.classification_report(y_test,Bag_SVC_predict))"
   ]
  },
  {
   "cell_type": "markdown",
   "metadata": {},
   "source": [
    "- precision of the target value seems to drop completly for the bagging svc model.\n",
    "- recal seems to be very bad for both SVC models\n",
    "- Computationall very expensive for the poor output"
   ]
  },
  {
   "cell_type": "markdown",
   "metadata": {},
   "source": [
    "#### Decision Tree"
   ]
  },
  {
   "cell_type": "code",
   "execution_count": 87,
   "metadata": {},
   "outputs": [
    {
     "name": "stdout",
     "output_type": "stream",
     "text": [
      "Decision Tree Base Model\n",
      "              precision    recall  f1-score   support\n",
      "\n",
      "           0       0.91      0.90      0.91     11965\n",
      "           1       0.32      0.33      0.32      1599\n",
      "\n",
      "    accuracy                           0.84     13564\n",
      "   macro avg       0.61      0.62      0.62     13564\n",
      "weighted avg       0.84      0.84      0.84     13564\n",
      "\n",
      "Decision Tree AdaBoosting Model\n",
      "              precision    recall  f1-score   support\n",
      "\n",
      "           0       0.90      0.99      0.94     11965\n",
      "           1       0.66      0.19      0.29      1599\n",
      "\n",
      "    accuracy                           0.89     13564\n",
      "   macro avg       0.78      0.59      0.62     13564\n",
      "weighted avg       0.87      0.89      0.87     13564\n",
      "\n",
      "Decision Tree Bagging Model\n",
      "              precision    recall  f1-score   support\n",
      "\n",
      "           0       0.91      0.97      0.94     11965\n",
      "           1       0.55      0.24      0.33      1599\n",
      "\n",
      "    accuracy                           0.89     13564\n",
      "   macro avg       0.73      0.61      0.64     13564\n",
      "weighted avg       0.86      0.89      0.87     13564\n",
      "\n"
     ]
    }
   ],
   "source": [
    "print(\"Decision Tree Base Model\")\n",
    "print(metrics.classification_report(y_test,DT_test_predict))\n",
    "print(\"Decision Tree AdaBoosting Model\")\n",
    "print(metrics.classification_report(y_test,ABC_DT_predict))\n",
    "print(\"Decision Tree Bagging Model\")\n",
    "print(metrics.classification_report(y_test,Bag_DT_predict))"
   ]
  },
  {
   "cell_type": "markdown",
   "metadata": {},
   "source": [
    "- Adaboosting Model shows good improvement on recall of the target value 0 and same for the bagging model which is better than bas but little lower than the boosting model.\n",
    "- precison of target value 1 is much more improved in boosting and bagging model but its better for boosting which shows double improvement from the base model. But recal drops too for both boosting and bagging.\n",
    "- For this decision Tree the Adabosting model is much more suitable than the rest of the models."
   ]
  },
  {
   "cell_type": "markdown",
   "metadata": {},
   "source": [
    "#### Decision Tree pruned"
   ]
  },
  {
   "cell_type": "code",
   "execution_count": 88,
   "metadata": {},
   "outputs": [
    {
     "name": "stdout",
     "output_type": "stream",
     "text": [
      "Decision Tree(pruned) AdaBoosting Model\n",
      "              precision    recall  f1-score   support\n",
      "\n",
      "           0       0.91      0.94      0.92     11965\n",
      "           1       0.36      0.28      0.31      1599\n",
      "\n",
      "    accuracy                           0.86     13564\n",
      "   macro avg       0.63      0.61      0.62     13564\n",
      "weighted avg       0.84      0.86      0.85     13564\n",
      "\n",
      "Decision Tree(pruned) Bagging Model\n",
      "              precision    recall  f1-score   support\n",
      "\n",
      "           0       0.91      0.98      0.94     11965\n",
      "           1       0.57      0.24      0.34      1599\n",
      "\n",
      "    accuracy                           0.89     13564\n",
      "   macro avg       0.74      0.61      0.64     13564\n",
      "weighted avg       0.87      0.89      0.87     13564\n",
      "\n"
     ]
    }
   ],
   "source": [
    "print(\"Decision Tree(pruned) AdaBoosting Model\")\n",
    "print(classification_report(y_test,ABC_DTP_predict))\n",
    "print(\"Decision Tree(pruned) Bagging Model\")\n",
    "print(metrics.classification_report(y_test,Bag_DTP_predict))"
   ]
  },
  {
   "cell_type": "markdown",
   "metadata": {},
   "source": [
    "- pruned Decsion tree performs better than defauld decsion trees.\n",
    "- precision of the bagging model is better than the boosting model for the target value 1.\n",
    "- recall for the target value 0 is better for the bagging model."
   ]
  },
  {
   "cell_type": "markdown",
   "metadata": {},
   "source": [
    "#### Random Forest Classifier"
   ]
  },
  {
   "cell_type": "code",
   "execution_count": 89,
   "metadata": {},
   "outputs": [
    {
     "name": "stdout",
     "output_type": "stream",
     "text": [
      "Random Forest Classifier\n",
      "              precision    recall  f1-score   support\n",
      "\n",
      "           0       0.91      0.98      0.94     11965\n",
      "           1       0.59      0.24      0.34      1599\n",
      "\n",
      "    accuracy                           0.89     13564\n",
      "   macro avg       0.75      0.61      0.64     13564\n",
      "weighted avg       0.87      0.89      0.87     13564\n",
      "\n"
     ]
    }
   ],
   "source": [
    "print(\"Random Forest Classifier\")\n",
    "print(metrics.classification_report(y_test,RFC_y_predict))"
   ]
  },
  {
   "cell_type": "markdown",
   "metadata": {},
   "source": [
    "This model outperforms all the other models and is best suited for the problem among all the above models"
   ]
  },
  {
   "cell_type": "markdown",
   "metadata": {},
   "source": [
    "### Final Model Selected"
   ]
  },
  {
   "cell_type": "code",
   "execution_count": 90,
   "metadata": {},
   "outputs": [
    {
     "name": "stdout",
     "output_type": "stream",
     "text": [
      " The best model which can be picked up from all the above models is Random Forest Classifier model\n",
      "              precision    recall  f1-score   support\n",
      "\n",
      "           0       0.91      0.98      0.94     11965\n",
      "           1       0.59      0.24      0.34      1599\n",
      "\n",
      "    accuracy                           0.89     13564\n",
      "   macro avg       0.75      0.61      0.64     13564\n",
      "weighted avg       0.87      0.89      0.87     13564\n",
      "\n"
     ]
    },
    {
     "data": {
      "text/plain": [
       "RandomForestClassifier(bootstrap=True, class_weight=None, criterion='gini',\n",
       "                       max_depth=20, max_features=10, max_leaf_nodes=None,\n",
       "                       min_impurity_decrease=0.0, min_impurity_split=None,\n",
       "                       min_samples_leaf=1, min_samples_split=2,\n",
       "                       min_weight_fraction_leaf=0.0, n_estimators=75,\n",
       "                       n_jobs=None, oob_score=False, random_state=5, verbose=0,\n",
       "                       warm_start=False)"
      ]
     },
     "execution_count": 90,
     "metadata": {},
     "output_type": "execute_result"
    }
   ],
   "source": [
    "print(\" The best model which can be picked up from all the above models is Random Forest Classifier model\")\n",
    "print(metrics.classification_report(y_test,RFC_y_predict))\n",
    "RFC1"
   ]
  },
  {
   "cell_type": "markdown",
   "metadata": {},
   "source": [
    "##### From all the above models the model best suited is Random forest classifier with Max depth 20. "
   ]
  }
 ],
 "metadata": {
  "kernelspec": {
   "display_name": "Python 3",
   "language": "python",
   "name": "python3"
  },
  "language_info": {
   "codemirror_mode": {
    "name": "ipython",
    "version": 3
   },
   "file_extension": ".py",
   "mimetype": "text/x-python",
   "name": "python",
   "nbconvert_exporter": "python",
   "pygments_lexer": "ipython3",
   "version": "3.7.4"
  }
 },
 "nbformat": 4,
 "nbformat_minor": 2
}
